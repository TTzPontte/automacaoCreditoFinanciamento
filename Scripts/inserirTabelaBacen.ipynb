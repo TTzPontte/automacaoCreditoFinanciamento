{
 "cells": [
  {
   "cell_type": "code",
   "execution_count": 7,
   "metadata": {},
   "outputs": [],
   "source": [
    "from extrairInfosBacen import extrairDividasJson, extrairNomeCliente\n",
    "import pandas as pd\n",
    "import numpy as np\n",
    "import os"
   ]
  },
  {
   "cell_type": "code",
   "execution_count": 153,
   "metadata": {},
   "outputs": [],
   "source": [
    "#Cliente Ok\n",
    "files_dir = 'G:\\Drives compartilhados\\Pontte\\Operações\\Projetos\\Automação de Crédito\\Simulação\\DAIANY KELLY NEVES DE OLIVEIRA - 531832441\\Crédito\\Bacen'\n",
    "bacen_files = [f for f in os.listdir(files_dir) if f.endswith(\".json\")]\n",
    "bacen_files\n",
    "results = pd.DataFrame()\n",
    "\n",
    "#Ler Todos os BACEN da pasta e transformar em DF\n",
    "for file in bacen_files:\n",
    "    varTesteCliente = os.path.join(files_dir, file)\n",
    "    df = extrairDividasJson(varTesteCliente)\n",
    "    if len(df) > 0:\n",
    "        df = extrairDividasJson(varTesteCliente)\n",
    "        results = pd.concat([results, df], axis=0).reset_index(drop=True)\n",
    "\n",
    "#Tratar nan\n",
    "results = results.fillna(0)"
   ]
  },
  {
   "cell_type": "code",
   "execution_count": 154,
   "metadata": {},
   "outputs": [
    {
     "data": {
      "text/html": [
       "<div>\n",
       "<style scoped>\n",
       "    .dataframe tbody tr th:only-of-type {\n",
       "        vertical-align: middle;\n",
       "    }\n",
       "\n",
       "    .dataframe tbody tr th {\n",
       "        vertical-align: top;\n",
       "    }\n",
       "\n",
       "    .dataframe thead th {\n",
       "        text-align: right;\n",
       "    }\n",
       "</style>\n",
       "<table border=\"1\" class=\"dataframe\">\n",
       "  <thead>\n",
       "    <tr style=\"text-align: right;\">\n",
       "      <th>vencimento</th>\n",
       "      <th>nome</th>\n",
       "      <th>tipoDivida</th>\n",
       "      <th>nomeDivida</th>\n",
       "      <th>A vencer, próx 30 dias.</th>\n",
       "      <th>A vencer: 31 a 360 dias.</th>\n",
       "      <th>A vencer: acima de 361 dias.</th>\n",
       "    </tr>\n",
       "  </thead>\n",
       "  <tbody>\n",
       "    <tr>\n",
       "      <th>0</th>\n",
       "      <td>DAIANY KELLY NEVES DE OLIVEIRA</td>\n",
       "      <td>A vencer</td>\n",
       "      <td>Cartão de Crédito</td>\n",
       "      <td>235.59</td>\n",
       "      <td>278.50</td>\n",
       "      <td>0.00</td>\n",
       "    </tr>\n",
       "    <tr>\n",
       "      <th>1</th>\n",
       "      <td>DAIANY KELLY NEVES DE OLIVEIRA</td>\n",
       "      <td>A vencer</td>\n",
       "      <td>Cheque Especial</td>\n",
       "      <td>128.54</td>\n",
       "      <td>0.00</td>\n",
       "      <td>0.00</td>\n",
       "    </tr>\n",
       "    <tr>\n",
       "      <th>2</th>\n",
       "      <td>DAIANY KELLY NEVES DE OLIVEIRA</td>\n",
       "      <td>A vencer</td>\n",
       "      <td>Financiamento de Automóvel</td>\n",
       "      <td>3676.14</td>\n",
       "      <td>34642.94</td>\n",
       "      <td>63187.77</td>\n",
       "    </tr>\n",
       "    <tr>\n",
       "      <th>3</th>\n",
       "      <td>DAIANY KELLY NEVES DE OLIVEIRA</td>\n",
       "      <td>Limite de Credito</td>\n",
       "      <td>Cartão de Crédito</td>\n",
       "      <td>0.00</td>\n",
       "      <td>0.00</td>\n",
       "      <td>1685.91</td>\n",
       "    </tr>\n",
       "    <tr>\n",
       "      <th>4</th>\n",
       "      <td>DAIANY KELLY NEVES DE OLIVEIRA</td>\n",
       "      <td>Limite de Credito</td>\n",
       "      <td>Cheque Especial</td>\n",
       "      <td>0.00</td>\n",
       "      <td>0.00</td>\n",
       "      <td>912.87</td>\n",
       "    </tr>\n",
       "    <tr>\n",
       "      <th>5</th>\n",
       "      <td>ISADORA DE OLIVEIRA SENA</td>\n",
       "      <td>A vencer</td>\n",
       "      <td>Cartão de Crédito</td>\n",
       "      <td>15351.19</td>\n",
       "      <td>0.00</td>\n",
       "      <td>0.00</td>\n",
       "    </tr>\n",
       "    <tr>\n",
       "      <th>6</th>\n",
       "      <td>ISADORA DE OLIVEIRA SENA</td>\n",
       "      <td>Limite de Credito</td>\n",
       "      <td>Cartão de Crédito</td>\n",
       "      <td>0.00</td>\n",
       "      <td>0.00</td>\n",
       "      <td>2650.76</td>\n",
       "    </tr>\n",
       "  </tbody>\n",
       "</table>\n",
       "</div>"
      ],
      "text/plain": [
       "vencimento                            nome         tipoDivida  \\\n",
       "0           DAIANY KELLY NEVES DE OLIVEIRA           A vencer   \n",
       "1           DAIANY KELLY NEVES DE OLIVEIRA           A vencer   \n",
       "2           DAIANY KELLY NEVES DE OLIVEIRA           A vencer   \n",
       "3           DAIANY KELLY NEVES DE OLIVEIRA  Limite de Credito   \n",
       "4           DAIANY KELLY NEVES DE OLIVEIRA  Limite de Credito   \n",
       "5                 ISADORA DE OLIVEIRA SENA           A vencer   \n",
       "6                 ISADORA DE OLIVEIRA SENA  Limite de Credito   \n",
       "\n",
       "vencimento                  nomeDivida  A vencer, próx 30 dias.  \\\n",
       "0                    Cartão de Crédito                   235.59   \n",
       "1                      Cheque Especial                   128.54   \n",
       "2           Financiamento de Automóvel                  3676.14   \n",
       "3                    Cartão de Crédito                     0.00   \n",
       "4                      Cheque Especial                     0.00   \n",
       "5                    Cartão de Crédito                 15351.19   \n",
       "6                    Cartão de Crédito                     0.00   \n",
       "\n",
       "vencimento  A vencer: 31 a 360 dias.  A vencer: acima de 361 dias.  \n",
       "0                             278.50                          0.00  \n",
       "1                               0.00                          0.00  \n",
       "2                           34642.94                      63187.77  \n",
       "3                               0.00                       1685.91  \n",
       "4                               0.00                        912.87  \n",
       "5                               0.00                          0.00  \n",
       "6                               0.00                       2650.76  "
      ]
     },
     "execution_count": 154,
     "metadata": {},
     "output_type": "execute_result"
    }
   ],
   "source": [
    "results"
   ]
  },
  {
   "cell_type": "code",
   "execution_count": 157,
   "metadata": {},
   "outputs": [],
   "source": [
    "import openpyxl as xl\n",
    "from openpyxl.utils.dataframe import dataframe_to_rows"
   ]
  },
  {
   "cell_type": "code",
   "execution_count": 160,
   "metadata": {},
   "outputs": [],
   "source": [
    "planilhaExcel = r'C:\\Users\\Matheus\\Downloads\\teste\\Simulador FI_v10_novo layout.xlsm'"
   ]
  },
  {
   "cell_type": "code",
   "execution_count": 163,
   "metadata": {},
   "outputs": [],
   "source": [
    "rows = dataframe_to_rows(results, index=False)\n",
    "wb = xl.load_workbook(planilhaExcel, keep_vba=True, data_only=False)\n",
    "ws = wb['Bacen']\n",
    "\n",
    "for r_idx, row in enumerate(rows, 1):\n",
    "    for c_idx, value in enumerate(row, 2):\n",
    "        ws.cell(row=r_idx, column=c_idx, value=value)\n",
    "\n",
    "wb.save(planilhaExcel)"
   ]
  }
 ],
 "metadata": {
  "kernelspec": {
   "display_name": "Python 3.10.4 64-bit",
   "language": "python",
   "name": "python3"
  },
  "language_info": {
   "codemirror_mode": {
    "name": "ipython",
    "version": 3
   },
   "file_extension": ".py",
   "mimetype": "text/x-python",
   "name": "python",
   "nbconvert_exporter": "python",
   "pygments_lexer": "ipython3",
   "version": "3.10.4"
  },
  "orig_nbformat": 4,
  "vscode": {
   "interpreter": {
    "hash": "9a3b07ba528c89038647187279d5e29ba231df4ea6aa016e93723a294652464d"
   }
  }
 },
 "nbformat": 4,
 "nbformat_minor": 2
}
