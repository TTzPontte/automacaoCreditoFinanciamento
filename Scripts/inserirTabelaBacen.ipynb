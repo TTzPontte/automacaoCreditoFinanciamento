{
 "cells": [
  {
   "cell_type": "code",
   "execution_count": 1,
   "metadata": {},
   "outputs": [],
   "source": [
    "from extrairInfosBacen import extrairDividasJson, extrairNomeCliente\n",
    "import pandas as pd\n",
    "import numpy as np\n",
    "import os"
   ]
  },
  {
   "cell_type": "code",
   "execution_count": 2,
   "metadata": {},
   "outputs": [
    {
     "data": {
      "text/plain": [
       "['D.K.N.DEOLIVEIRA-17093336000149-2022-05-19.json',\n",
       " 'DAIANYKELLYNEVESDEOLIVEIRA-57101833187-2022-05-19.json',\n",
       " 'ISADORADEOLIVEIRASENA-45876239895-2022-06-21.json']"
      ]
     },
     "execution_count": 2,
     "metadata": {},
     "output_type": "execute_result"
    }
   ],
   "source": [
    "#Cliente Ok\n",
    "files_dir = 'G:\\Drives compartilhados\\Pontte\\Operações\\Projetos\\Automação de Crédito\\Simulação\\DAIANY KELLY NEVES DE OLIVEIRA - 531832441\\Crédito\\Bacen'\n",
    "bacen_files = [f for f in os.listdir(files_dir) if f.endswith(\".json\")]\n",
    "bacen_files"
   ]
  },
  {
   "cell_type": "code",
   "execution_count": 3,
   "metadata": {},
   "outputs": [
    {
     "data": {
      "text/plain": [
       "'DAIANY KELLY NEVES DE OLIVEIRA'"
      ]
     },
     "execution_count": 3,
     "metadata": {},
     "output_type": "execute_result"
    }
   ],
   "source": [
    "varTesteCliente = os.path.join(files_dir, bacen_files[0])\n",
    "nome = extrairNomeCliente(varTesteCliente) \n",
    "nome"
   ]
  },
  {
   "cell_type": "code",
   "execution_count": 4,
   "metadata": {},
   "outputs": [
    {
     "data": {
      "text/html": [
       "<div>\n",
       "<style scoped>\n",
       "    .dataframe tbody tr th:only-of-type {\n",
       "        vertical-align: middle;\n",
       "    }\n",
       "\n",
       "    .dataframe tbody tr th {\n",
       "        vertical-align: top;\n",
       "    }\n",
       "\n",
       "    .dataframe thead th {\n",
       "        text-align: right;\n",
       "    }\n",
       "</style>\n",
       "<table border=\"1\" class=\"dataframe\">\n",
       "  <thead>\n",
       "    <tr style=\"text-align: right;\">\n",
       "      <th>vencimento</th>\n",
       "      <th>nome</th>\n",
       "      <th>tipoDivida</th>\n",
       "      <th>nomeDivida</th>\n",
       "    </tr>\n",
       "  </thead>\n",
       "  <tbody>\n",
       "  </tbody>\n",
       "</table>\n",
       "</div>"
      ],
      "text/plain": [
       "Empty DataFrame\n",
       "Columns: [nome, tipoDivida, nomeDivida]\n",
       "Index: []"
      ]
     },
     "execution_count": 4,
     "metadata": {},
     "output_type": "execute_result"
    }
   ],
   "source": [
    "df = extrairDividasJson(varTesteCliente)\n",
    "df"
   ]
  },
  {
   "cell_type": "code",
   "execution_count": null,
   "metadata": {},
   "outputs": [],
   "source": [
    "import openpyxl as xl\n",
    "from openpyxl.utils.dataframe import dataframe_to_rows"
   ]
  },
  {
   "cell_type": "code",
   "execution_count": null,
   "metadata": {},
   "outputs": [],
   "source": [
    "planilhaExcel = r'C:\\Users\\Matheus\\Downloads\\teste\\Simulador FI_v10_novo layout.xlsm'"
   ]
  },
  {
   "cell_type": "code",
   "execution_count": null,
   "metadata": {},
   "outputs": [],
   "source": [
    "#Abrir Planilha\n",
    "wb = xl.load_workbook(planilhaExcel, data_only=False, keep_vba=True)\n",
    "#Abrir Abas\n",
    "ws = wb['Resumo']\n"
   ]
  },
  {
   "cell_type": "code",
   "execution_count": null,
   "metadata": {},
   "outputs": [],
   "source": [
    "for row in ws['H15:H23']:\n",
    "  for cell in row:\n",
    "    cell.value = None"
   ]
  },
  {
   "cell_type": "code",
   "execution_count": null,
   "metadata": {},
   "outputs": [],
   "source": []
  },
  {
   "cell_type": "code",
   "execution_count": null,
   "metadata": {},
   "outputs": [],
   "source": [
    "ws[\"H15\"].value = nome\n",
    "i = -1\n",
    "\n",
    "#Inserir nome da divida\n",
    "for row in ws['H16:H23']:\n",
    "    i = i +1\n",
    "    for cell in row:\n",
    "        try:\n",
    "            cell.value = df['nomeDivida'][i]\n",
    "        except:\n",
    "            pass\n",
    "i = -1\n",
    "#Inserir Valores Vencido\n",
    "for row in ws['J16:J23']:\n",
    "    i = i +1\n",
    "    for cell in row:\n",
    "        try:\n",
    "            cell.value = df['Vencido'][i]\n",
    "        except:\n",
    "            pass\n",
    "i = -1\n",
    "#Inserir Valores Prejuizo\n",
    "for row in ws['K16:K23']:\n",
    "    i = i +1\n",
    "    for cell in row:\n",
    "        try:\n",
    "            cell.value = df['Prejuizo'][i]\n",
    "        except:\n",
    "            pass\n",
    "i = -1\n",
    "#Inserir Valores Em dia\n",
    "for row in ws['L16:L23']:\n",
    "    i = i +1\n",
    "    for cell in row:\n",
    "        try:\n",
    "            cell.value = df['Em dia'][i]\n",
    "        except:\n",
    "            pass\n",
    "\n",
    "#Inserir Valor do Limite\n",
    "ws['O16'].value = df['Limite'].sum()\n",
    "\n",
    "###\n"
   ]
  },
  {
   "cell_type": "code",
   "execution_count": null,
   "metadata": {},
   "outputs": [
    {
     "name": "stderr",
     "output_type": "stream",
     "text": [
      "c:\\Users\\Matheus\\AppData\\Local\\Programs\\Python\\Python310\\lib\\site-packages\\openpyxl\\comments\\shape_writer.py:74: FutureWarning: The behavior of this method will change in future versions. Use specific 'len(elem)' or 'elem is not None' test instead.\n",
      "  if not shape_types:\n"
     ]
    }
   ],
   "source": [
    "wb.save(planilhaExcel)"
   ]
  }
 ],
 "metadata": {
  "kernelspec": {
   "display_name": "Python 3.10.4 64-bit",
   "language": "python",
   "name": "python3"
  },
  "language_info": {
   "codemirror_mode": {
    "name": "ipython",
    "version": 3
   },
   "file_extension": ".py",
   "mimetype": "text/x-python",
   "name": "python",
   "nbconvert_exporter": "python",
   "pygments_lexer": "ipython3",
   "version": "3.10.4"
  },
  "orig_nbformat": 4,
  "vscode": {
   "interpreter": {
    "hash": "9a3b07ba528c89038647187279d5e29ba231df4ea6aa016e93723a294652464d"
   }
  }
 },
 "nbformat": 4,
 "nbformat_minor": 2
}
