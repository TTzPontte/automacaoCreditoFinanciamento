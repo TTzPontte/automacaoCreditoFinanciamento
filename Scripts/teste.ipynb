{
 "cells": [
  {
   "cell_type": "code",
   "execution_count": 22,
   "metadata": {},
   "outputs": [],
   "source": [
    "from extrairInfosBacen import extrairDividasJson, extrairNomeCliente\n",
    "import pandas as pd\n",
    "import numpy as np"
   ]
  },
  {
   "cell_type": "code",
   "execution_count": 23,
   "metadata": {},
   "outputs": [],
   "source": [
    "#Cliente Ok\n",
    "#arquivoJson = r\"G:\\Drives compartilhados\\Pontte\\Operações\\Projetos\\Automação de Crédito\\Json\\FERNANDOMAGNODEOLIVEIRACASTRO-28142050803-2022-05-27.json\"\n",
    "\n",
    "#Cliente Vencido\n",
    "arquivoJson = r\"G:\\Drives compartilhados\\Pontte\\Operações\\Projetos\\Automação de Crédito\\Json\\TATIANELIMADEOLIVEIRA-02372706179-2022-05-10.json\"\n",
    "\n",
    "#Cliente Prejuizo\n",
    "#arquivoJson = r\"G:\\Drives compartilhados\\Pontte\\Operações\\Projetos\\Automação de Crédito\\Json\\ClaytonOliveiraLima-01917989911-2022-01-13.json\"\n"
   ]
  },
  {
   "cell_type": "code",
   "execution_count": 24,
   "metadata": {},
   "outputs": [
    {
     "data": {
      "text/plain": [
       "'TATIANE LIMA DE OLIVEIRA'"
      ]
     },
     "execution_count": 24,
     "metadata": {},
     "output_type": "execute_result"
    }
   ],
   "source": [
    "nome = extrairNomeCliente(arquivoJson) \n",
    "nome"
   ]
  },
  {
   "cell_type": "code",
   "execution_count": 25,
   "metadata": {},
   "outputs": [
    {
     "data": {
      "text/html": [
       "<div>\n",
       "<style scoped>\n",
       "    .dataframe tbody tr th:only-of-type {\n",
       "        vertical-align: middle;\n",
       "    }\n",
       "\n",
       "    .dataframe tbody tr th {\n",
       "        vertical-align: top;\n",
       "    }\n",
       "\n",
       "    .dataframe thead th {\n",
       "        text-align: right;\n",
       "    }\n",
       "</style>\n",
       "<table border=\"1\" class=\"dataframe\">\n",
       "  <thead>\n",
       "    <tr style=\"text-align: right;\">\n",
       "      <th></th>\n",
       "      <th>nomeDivida</th>\n",
       "      <th>Vencido</th>\n",
       "      <th>Prejuizo</th>\n",
       "      <th>Em dia</th>\n",
       "      <th>Limite</th>\n",
       "    </tr>\n",
       "  </thead>\n",
       "  <tbody>\n",
       "    <tr>\n",
       "      <th>0</th>\n",
       "      <td>Cartão de Crédito</td>\n",
       "      <td>39755.86</td>\n",
       "      <td>0</td>\n",
       "      <td>25180.19</td>\n",
       "      <td>0</td>\n",
       "    </tr>\n",
       "    <tr>\n",
       "      <th>1</th>\n",
       "      <td>Cheque Especial</td>\n",
       "      <td>2346.05</td>\n",
       "      <td>0</td>\n",
       "      <td>0.00</td>\n",
       "      <td>0</td>\n",
       "    </tr>\n",
       "    <tr>\n",
       "      <th>2</th>\n",
       "      <td>Crédito Pessoal s/ Consignação</td>\n",
       "      <td>1875.00</td>\n",
       "      <td>0</td>\n",
       "      <td>13904.00</td>\n",
       "      <td>0</td>\n",
       "    </tr>\n",
       "    <tr>\n",
       "      <th>3</th>\n",
       "      <td>Outros empréstimos</td>\n",
       "      <td>0.00</td>\n",
       "      <td>0</td>\n",
       "      <td>11922.28</td>\n",
       "      <td>0</td>\n",
       "    </tr>\n",
       "  </tbody>\n",
       "</table>\n",
       "</div>"
      ],
      "text/plain": [
       "                       nomeDivida   Vencido  Prejuizo    Em dia  Limite\n",
       "0               Cartão de Crédito  39755.86         0  25180.19       0\n",
       "1                 Cheque Especial   2346.05         0      0.00       0\n",
       "2  Crédito Pessoal s/ Consignação   1875.00         0  13904.00       0\n",
       "3              Outros empréstimos      0.00         0  11922.28       0"
      ]
     },
     "execution_count": 25,
     "metadata": {},
     "output_type": "execute_result"
    }
   ],
   "source": [
    "df = extrairDividasJson(arquivoJson)\n",
    "limite = df['Limite'].sum()\n",
    "df "
   ]
  },
  {
   "cell_type": "code",
   "execution_count": 26,
   "metadata": {},
   "outputs": [
    {
     "name": "stdout",
     "output_type": "stream",
     "text": [
      "Em dia: 51006.47 \n",
      "Vencido: 43976.91\n",
      "Prejuizo: 0\n",
      "Limite: 0\n"
     ]
    }
   ],
   "source": [
    "print(f\"Em dia: {round(df['Em dia'].sum(),2)} \\nVencido: {round(df['Vencido'].sum(),2)}\\nPrejuizo: {round(df['Prejuizo'].sum(),2)}\\nLimite: {round(limite,2)}\")"
   ]
  }
 ],
 "metadata": {
  "kernelspec": {
   "display_name": "Python 3.10.4 64-bit",
   "language": "python",
   "name": "python3"
  },
  "language_info": {
   "codemirror_mode": {
    "name": "ipython",
    "version": 3
   },
   "file_extension": ".py",
   "mimetype": "text/x-python",
   "name": "python",
   "nbconvert_exporter": "python",
   "pygments_lexer": "ipython3",
   "version": "3.10.4"
  },
  "orig_nbformat": 4,
  "vscode": {
   "interpreter": {
    "hash": "9a3b07ba528c89038647187279d5e29ba231df4ea6aa016e93723a294652464d"
   }
  }
 },
 "nbformat": 4,
 "nbformat_minor": 2
}
