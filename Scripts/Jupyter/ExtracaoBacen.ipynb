{
 "cells": [
  {
   "cell_type": "code",
   "execution_count": 1,
   "metadata": {},
   "outputs": [],
   "source": [
    "import pandas as pd\n",
    "import json\n",
    "from pprint import pprint"
   ]
  },
  {
   "cell_type": "code",
   "execution_count": 2,
   "metadata": {},
   "outputs": [],
   "source": [
    "arquivo = r\"G:\\Drives compartilhados\\Pontte\\Operações\\Projetos\\Automação de Crédito\\Json\\FERNANDOMAGNODEOLIVEIRACASTRO-28142050803-2022-05-27.json\"\n",
    "#arquivo = r\"G:\\Drives compartilhados\\Pontte\\Operações\\Projetos\\Automação de Crédito\\Json\\AdrianaChagasAlao-93165790663-2022-03-29.json\""
   ]
  },
  {
   "cell_type": "code",
   "execution_count": 3,
   "metadata": {},
   "outputs": [],
   "source": [
    "with open(arquivo, encoding='utf-8') as file:\n",
    "    data = json.load(file)\n",
    "    data2 = data['scr_data']\n",
    "    data3 = data['signers']"
   ]
  },
  {
   "cell_type": "code",
   "execution_count": 4,
   "metadata": {},
   "outputs": [],
   "source": [
    "listaData = []\n",
    "for line in data2:\n",
    "    if 'reference_date' in line:\n",
    "        listaData.append(line['reference_date'])"
   ]
  },
  {
   "cell_type": "code",
   "execution_count": 5,
   "metadata": {},
   "outputs": [
    {
     "data": {
      "text/plain": [
       "'2022-03'"
      ]
     },
     "execution_count": 5,
     "metadata": {},
     "output_type": "execute_result"
    }
   ],
   "source": [
    "tamanhoLista=  len(listaData)\n",
    "extList = listaData[-2]\n",
    "extList"
   ]
  },
  {
   "cell_type": "code",
   "execution_count": 65,
   "metadata": {},
   "outputs": [],
   "source": [
    "teste = ''\n",
    "for line in data2:\n",
    "    if 'reference_date' in line:\n",
    "        if line['reference_date'] == extList:\n",
    "            teste = line['reference_date']\n",
    "        elif teste == extList:\n",
    "            teste = 1\n",
    "        elif teste == 1:\n",
    "            teste = 0\n",
    "    if teste == 1:\n",
    "        conteudo = line\n",
    "\n",
    "#print(conteudo)"
   ]
  },
  {
   "cell_type": "code",
   "execution_count": 78,
   "metadata": {},
   "outputs": [],
   "source": [
    "#Função DE-PARA\n",
    "def deParaDividas(x):\n",
    "    if 'Cartão' in x or 'cartao' in x or 'cartão' in x or 'Cartao' in x:\n",
    "        x = 'Cartão de Crédito'\n",
    "    elif 'capital' in x or 'Capital' in x:\n",
    "        x = 'Capital de Giro'\n",
    "    elif 'cheque' in x or 'Cheque' in x:\n",
    "        x = 'Cheque Especial'\n",
    "    elif 'Conta garantida' in x or 'conta garantida' in x:\n",
    "        x = 'Cheque Especial'\n",
    "    elif 'sem consignação' in x:\n",
    "        x = 'Crédito Pessoal s/ Consignação'\n",
    "    elif 'Crédito pessoal' in x or 'crédito pessoal' in x:\n",
    "        x = 'Crédito Pessoal'\n",
    "    elif 'adiantamentos a depositantes' in x or 'desconto de duplicatas' in x:\n",
    "        x = 'Desconto de duplicatas'\n",
    "    elif 'aquisição de bens – outros bens' in x:\n",
    "        x = 'Financiamento Outros Bens'\n",
    "    elif 'aquisição de bens – veículos automotores' in x:\n",
    "        x = 'Financiamento de Automóvel'\n",
    "    elif 'financiamento habitacional – SFH' in x:\n",
    "        x = 'Financiamento de Imóvel - SFH'\n",
    "    elif 'financiamento habitacional – exceto SFH' in x:\n",
    "        x = 'Financiamento de Imóvel'\n",
    "    elif 'contratado e não utilizado' in x or 'custeio e pré-custeio' in x or 'microcrédito' in x or 'outros empréstimos' in x or 'recebíveis adquiridos' in x:\n",
    "        x = 'Outros empréstimos'\n",
    "    elif 'financiamento de projeto' in x or 'outros financiamentos' in x or 'Outros financiamentos' in x:\n",
    "        x = 'Outros financiamentos'\n",
    "    elif 'Descontos' in x or 'Outros Limites' in x or 'avais e fianças honrados' in x or 'garantias prestadas' in x or 'desconto de cheques' in x:\n",
    "        x = 'Outros Recebíveis Adquiridos'\n",
    "    \n",
    "    #Retornar valor de X\n",
    "    return x\n",
    "\n",
    "def tempoDivida(y):\n",
    "    if 'a vencer até 30 dias' in y:\n",
    "        y = 'A vencer, próx 30 dias.'\n",
    "    elif 'a vencer de 31 a 60 dias' in y or 'a vencer de 61 a 90 dias' in y or 'a vencer de 91 a 180 dias' in y or 'Créditos a vencer de 181 a 360 dias' in y:\n",
    "        y = 'A vencer: 31 a 360 dias.'\n",
    "    else:\n",
    "        y = 'A vencer: acima de 361 dias.'    \n",
    "    #Retornar Valor\n",
    "    return y"
   ]
  },
  {
   "cell_type": "code",
   "execution_count": 50,
   "metadata": {},
   "outputs": [],
   "source": [
    "nomeCliente = []\n",
    "listaCategoria = []\n",
    "listaTipo = []\n",
    "listaGrupo = []\n",
    "listaValor = []\n",
    "listaDivida = []"
   ]
  },
  {
   "cell_type": "code",
   "execution_count": 51,
   "metadata": {},
   "outputs": [],
   "source": [
    "#Inserir Nome\n",
    "for x in data3:\n",
    "    nome = x['name']\n",
    "    nomeCliente.append(nome)\n"
   ]
  },
  {
   "cell_type": "code",
   "execution_count": 52,
   "metadata": {},
   "outputs": [],
   "source": [
    "for i in conteudo['operation_items']:\n",
    "    listaCategoria.append(i['category_sub']['category']['category_description'])\n",
    "    listaTipo.append(i['due_type']['description'])\n",
    "    listaGrupo.append(i['due_type']['due_type_group'])\n",
    "    listaDivida.append(i['category_sub']['description'])\n",
    "    listaValor.append(i['due_value'])\n",
    "    "
   ]
  },
  {
   "cell_type": "code",
   "execution_count": 83,
   "metadata": {},
   "outputs": [],
   "source": [
    "vencimentoDivida = []\n",
    "nomeDividas = []\n",
    "for itemList in listaTipo:\n",
    "    vencimentoDivida.append(tempoDivida(itemList))\n",
    "for nomeDivida in listaDivida:\n",
    "    nomeDividas.append(deParaDividas(nomeDivida))\n"
   ]
  },
  {
   "cell_type": "code",
   "execution_count": 89,
   "metadata": {},
   "outputs": [],
   "source": [
    "listaUnica = list(zip(listaCategoria, vencimentoDivida, listaGrupo, nomeDividas, listaValor))"
   ]
  },
  {
   "cell_type": "code",
   "execution_count": 102,
   "metadata": {},
   "outputs": [],
   "source": [
    "df = pd.DataFrame(listaUnica, columns=[['Categoria', 'Tipo', 'Grupo', 'Nome da Dívida', 'Valor']], index=None)\n",
    "df.insert(0,\"Nome do Cliente\", nomeCliente[0])"
   ]
  },
  {
   "cell_type": "code",
   "execution_count": 103,
   "metadata": {},
   "outputs": [],
   "source": [
    "df.to_excel(r\"C:\\Users\\Matheus\\Desktop\\df2.xlsx\")"
   ]
  }
 ],
 "metadata": {
  "kernelspec": {
   "display_name": "Python 3.10.4 64-bit",
   "language": "python",
   "name": "python3"
  },
  "language_info": {
   "codemirror_mode": {
    "name": "ipython",
    "version": 3
   },
   "file_extension": ".py",
   "mimetype": "text/x-python",
   "name": "python",
   "nbconvert_exporter": "python",
   "pygments_lexer": "ipython3",
   "version": "3.10.4"
  },
  "orig_nbformat": 4,
  "vscode": {
   "interpreter": {
    "hash": "9a3b07ba528c89038647187279d5e29ba231df4ea6aa016e93723a294652464d"
   }
  }
 },
 "nbformat": 4,
 "nbformat_minor": 2
}
