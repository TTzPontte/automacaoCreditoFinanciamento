{
 "cells": [
  {
   "cell_type": "code",
   "execution_count": 1,
   "metadata": {},
   "outputs": [
    {
     "name": "stdout",
     "output_type": "stream",
     "text": [
      "Inicio do processo de login\n",
      "login realizado\n"
     ]
    }
   ],
   "source": [
    "import pandas as pd\n",
    "import shutil\n",
    "import os\n",
    "import sys\n",
    "import re\n",
    "from selenium import webdriver\n",
    "from time import sleep\n",
    "from selenium.webdriver.chrome.options import Options\n",
    "sys.path.append(r'C:\\Users\\Matheus\\Documents\\Git\\Pontte\\automacaoCreditoFinanciamento\\Scripts')       \n",
    "from anexosCliente import listarAnexos\n",
    "from baixarAnexo import baixarEMover\n",
    "from datetime import datetime\n",
    "import openpyxl as xl\n",
    "import glob\n",
    "from baixarBase import downloadRelatorio, atualizarBase, finalAtualizacao"
   ]
  },
  {
   "cell_type": "code",
   "execution_count": 2,
   "metadata": {},
   "outputs": [
    {
     "name": "stdout",
     "output_type": "stream",
     "text": [
      "Inicio do Processo de Download\n",
      "Feito\n",
      "Final do Processo de Download\n",
      "Inicio do Processo\n",
      "Final do processo\n"
     ]
    }
   ],
   "source": [
    "#Baixar e Atualizar Base\n",
    "pathDestino = r'G:\\Drives compartilhados\\Pontte\\Operações\\Projetos\\Automação de Crédito\\Casos_Analise_Bacen\\Base_Casos.xlsx'\n",
    "downloadRelatorio('https://app.pipefy.com/pipes/301487926/reports_v2/300284180')\n",
    "atualizarBase(pathDestino)\n",
    "finalAtualizacao()"
   ]
  },
  {
   "cell_type": "code",
   "execution_count": 3,
   "metadata": {},
   "outputs": [],
   "source": [
    "#Criar Data Frame da Base Atualizada\n",
    "pathBase = r'G:\\Drives compartilhados\\Pontte\\Operações\\Projetos\\Automação de Crédito\\Casos_Analise_Bacen\\Base_Casos.xlsx'\n",
    "df = pd.read_excel(pathBase)\n",
    "#df.head(1)"
   ]
  },
  {
   "cell_type": "code",
   "execution_count": 4,
   "metadata": {},
   "outputs": [
    {
     "name": "stdout",
     "output_type": "stream",
     "text": [
      "Inicio do processo de login\n",
      "login realizado\n"
     ]
    },
    {
     "name": "stderr",
     "output_type": "stream",
     "text": [
      "c:\\Users\\Matheus\\AppData\\Local\\Programs\\Python\\Python310\\lib\\site-packages\\openpyxl\\worksheet\\_reader.py:312: UserWarning: Data Validation extension is not supported and will be removed\n",
      "  warn(msg)\n",
      "c:\\Users\\Matheus\\AppData\\Local\\Programs\\Python\\Python310\\lib\\site-packages\\openpyxl\\comments\\shape_writer.py:74: FutureWarning: The behavior of this method will change in future versions. Use specific 'len(elem)' or 'elem is not None' test instead.\n",
      "  if not shape_types:\n"
     ]
    },
    {
     "name": "stdout",
     "output_type": "stream",
     "text": [
      "Inicio do processo de login\n",
      "Login feito\n"
     ]
    }
   ],
   "source": [
    "final = len(df)\n",
    "#final = 1\n",
    "def deParaimovel(varImovel):\n",
    "    if varImovel == \"Casa Padrão\" or varImovel == \"Casa de Condomínio\":\n",
    "        varImovel = \"Casa\"\n",
    "    return varImovel\n",
    "def deParaOps(varOps):\n",
    "    if varOps == \"Pessoa Física\":\n",
    "        varOps = \"PF\"\n",
    "    elif varOps == \"Pessoa Jurídica\":\n",
    "        varOps = \"PJ\"\n",
    "    return varOps\n",
    "def converterDatas(date):\n",
    "    try:\n",
    "        date_obj = datetime.strptime(str(date), '%Y-%m-%d')\n",
    "        date = date_obj.strftime(\"%d/%m/%Y\")\n",
    "    except:\n",
    "        pass\n",
    "    return date\n",
    "    \n",
    "for i in range(0,final):\n",
    "    \n",
    "    codigoPipefy = df.iloc[i]['Código']\n",
    "    linkPipefy = \"https://app.pipefy.com/open-cards/\" + str(codigoPipefy)\n",
    "    nomeCompleto = df.iloc[i]['Qual é o seu nome completo?']\n",
    "    tipoOps = df.iloc[i]['Tipo de Operação']\n",
    "    tipoOps = deParaOps(tipoOps)\n",
    "    cpf = df.iloc[i]['E o seu CPF?']\n",
    "    dataNascimento = df.iloc[i]['Qual a sua data de nascimento?']\n",
    "    dataNascimento = converterDatas(dataNascimento)\n",
    "    comporRenda = df.iloc[i]['Deseja compor renda com alguém?']\n",
    "    nomeComporRenda = df.iloc[i]['Nome Completo - 2o Pagador(a)']\n",
    "    cpfComporRenda = df.iloc[i]['CPF - 2o Pagador(a)']\n",
    "    dataNascimentoComporRenda = df.iloc[i]['Data de Nascimento - 2o Pagador(a)']\n",
    "    dataNascimentoComporRenda = converterDatas(dataNascimentoComporRenda)\n",
    "    valorImovel = df.iloc[i]['Qual o valor total do imóvel que você quer comprar?']\n",
    "    valorLiquido = df.iloc[i]['Quanto do valor do imóvel você quer financiar?']\n",
    "    qtdParcelas = df.iloc[i]['Selecione a quantidade de parcelas do seu financiamento']\n",
    "    qtdParcelas = re.sub('[^0-9]', '', qtdParcelas)\n",
    "    carencia = df.iloc[i]['Você precisa de uma carência antes de começar a pagar suas parcelas?']\n",
    "    carencia = re.sub('[^0-9]', '', carencia)\n",
    "    #new\n",
    "    tipoImovel = df.iloc[i]['Qual é o tipo de Imóvel?']\n",
    "    tipoImovel = deParaimovel(tipoImovel)\n",
    "    eSocio = df.iloc[i]['Você é sócio(a) de alguma empresa?']\n",
    "    razaoSocial = df.iloc[i]['Razão Social Empresa']\n",
    "    cnpjEmpresa = df.iloc[i]['CNPJ Empresa']\n",
    "    areaImovel = df.iloc[i]['Qual é a área útil do imóvel?']\n",
    "    enderecoImovel = df.iloc[i]['Qual o endereço do imóvel de interesse?']\n",
    "    itbi = enderecoImovel = df.iloc[i]['Deseja incluir ITBI e Registro no financiamento?']\n",
    "\n",
    "    origem = r\"G:\\Drives compartilhados\\Pontte\\Operações\\Projetos\\Automação de Crédito\\Simulação\\1_Template\"\n",
    "    destino = rf\"G:\\Drives compartilhados\\Pontte\\Operações\\Projetos\\Automação de Crédito\\Simulação\\{nomeCompleto} - {codigoPipefy}\" \n",
    "\n",
    "    \n",
    "\n",
    "    if not os.path.exists(destino):\n",
    "        shutil.copytree(origem, destino)\n",
    "        dict = listarAnexos(linkPipefy, destino)\n",
    "        if nomeCompleto is not None:\n",
    "            renomearCPF1 = rf'G:\\Drives compartilhados\\Pontte\\Operações\\Projetos\\Automação de Crédito\\Simulação\\{nomeCompleto} - {codigoPipefy}\\Crédito\\Documentos pessoais\\CPF1'\n",
    "            renomeadoCPF1 = rf'G:\\Drives compartilhados\\Pontte\\Operações\\Projetos\\Automação de Crédito\\Simulação\\{nomeCompleto} - {codigoPipefy}\\Crédito\\Documentos pessoais\\{nomeCompleto} - {cpf}'\n",
    "            os.rename(renomearCPF1,renomeadoCPF1)\n",
    "            if comporRenda == \"Sim\":\n",
    "                renomearCPF2 = rf'G:\\Drives compartilhados\\Pontte\\Operações\\Projetos\\Automação de Crédito\\Simulação\\{nomeCompleto} - {codigoPipefy}\\Crédito\\Documentos pessoais\\CPF2'\n",
    "                renomeadoCPF2 = rf'G:\\Drives compartilhados\\Pontte\\Operações\\Projetos\\Automação de Crédito\\Simulação\\{nomeCompleto} - {codigoPipefy}\\Crédito\\Documentos pessoais\\{nomeComporRenda} - {cpfComporRenda}'\n",
    "                os.rename(renomearCPF2,renomeadoCPF2)\n",
    "        \n",
    "        baixarEMover(destino, dict, nomeCompleto, cpf, nomeComporRenda, cpfComporRenda)\n",
    "        \n",
    "        #Manipulação do simulador do Excel\n",
    "        try:\n",
    "            pathSpreadSheet = glob.glob(destino+\"\\*.xlsm\") #Pegar Caminho do Simulador dentro da pasta do cliente\n",
    "            pathSpreadSheet = pathSpreadSheet[0] #Transformar de Lista ---> STR\n",
    "            wb = xl.load_workbook(pathSpreadSheet, read_only=False, keep_vba=True) #Carregar a planilha\n",
    "            #Abrir Abas\n",
    "            ws = wb['Resumo']\n",
    "            ws2 = wb['Avaliacao']\n",
    "            #Escrever nas planilhas\n",
    "            ws[\"C8\"].value = qtdParcelas\n",
    "            ws[\"C10\"].value = carencia\n",
    "            ws[\"C11\"].value = valorLiquido\n",
    "            ws[\"C12\"].value = 0\n",
    "            ws[\"C13\"].value = valorImovel\n",
    "            ws[\"C14\"].value = itbi\n",
    "            ws[\"C15\"].value = tipoOps\n",
    "            ws[\"C16\"].value = tipoImovel\n",
    "            #Nomes\n",
    "            ws[\"C19\"].value = nomeCompleto\n",
    "            ws[\"C20\"].value = nomeComporRenda\n",
    "            ws[\"C21\"].value = razaoSocial\n",
    "            #dataNascimento\n",
    "            ws[\"C24\"].value = dataNascimento\n",
    "            ws[\"C25\"].value = dataNascimentoComporRenda\n",
    "            #Link\n",
    "            ws[\"C29\"].value = linkPipefy\n",
    "            #CPF e CNPJ\n",
    "            ws[\"C30\"].value = cpf\n",
    "            ws[\"C31\"].value = cpfComporRenda\n",
    "            ws[\"C32\"].value = cnpjEmpresa\n",
    "            \n",
    "            #Avaliacao\n",
    "            ws2[\"F9\"].value = areaImovel\n",
    "\n",
    "            #Salvar e Fechar\n",
    "            wb.save(pathSpreadSheet)\n",
    "            wb.close()\n",
    "        except:\n",
    "            print('Erro ao preencher Excel!')"
   ]
  }
 ],
 "metadata": {
  "interpreter": {
   "hash": "9a3b07ba528c89038647187279d5e29ba231df4ea6aa016e93723a294652464d"
  },
  "kernelspec": {
   "display_name": "Python 3.10.4 64-bit",
   "language": "python",
   "name": "python3"
  },
  "language_info": {
   "codemirror_mode": {
    "name": "ipython",
    "version": 3
   },
   "file_extension": ".py",
   "mimetype": "text/x-python",
   "name": "python",
   "nbconvert_exporter": "python",
   "pygments_lexer": "ipython3",
   "version": "3.10.4"
  },
  "orig_nbformat": 4
 },
 "nbformat": 4,
 "nbformat_minor": 2
}
