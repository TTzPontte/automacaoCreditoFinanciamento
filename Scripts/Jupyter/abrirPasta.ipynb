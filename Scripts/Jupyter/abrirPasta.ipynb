{
 "cells": [
  {
   "cell_type": "code",
   "execution_count": 1,
   "metadata": {},
   "outputs": [
    {
     "name": "stdout",
     "output_type": "stream",
     "text": [
      "Inicio do processo de login\n",
      "login realizado\n"
     ]
    }
   ],
   "source": [
    "import pandas as pd\n",
    "import shutil\n",
    "import os\n",
    "import sys\n",
    "import re\n",
    "from selenium import webdriver\n",
    "from time import sleep\n",
    "from selenium.webdriver.chrome.options import Options\n",
    "sys.path.append(r'C:\\Users\\Matheus\\Documents\\Git\\Pontte\\automacaoCreditoFinanciamento\\Scripts')       \n",
    "from anexosCliente import listarAnexos\n",
    "from baixarAnexo import baixarEMover\n",
    "from datetime import datetime\n",
    "import openpyxl as xl\n",
    "import glob\n",
    "from baixarBase import downloadRelatorio, atualizarBase, finalAtualizacao"
   ]
  },
  {
   "cell_type": "code",
   "execution_count": 2,
   "metadata": {},
   "outputs": [
    {
     "name": "stdout",
     "output_type": "stream",
     "text": [
      "Inicio do Processo de Download\n",
      "Feito\n",
      "Final do Processo de Download\n"
     ]
    },
    {
     "ename": "FileNotFoundError",
     "evalue": "[Errno 2] No such file or directory: 'C:\\\\Users\\\\Matheus\\\\Downloads\\\\relatório_automação_crédito_20-05-2022.xlsx'",
     "output_type": "error",
     "traceback": [
      "\u001b[1;31m---------------------------------------------------------------------------\u001b[0m",
      "\u001b[1;31mFileNotFoundError\u001b[0m                         Traceback (most recent call last)",
      "\u001b[1;32mc:\\Users\\Matheus\\Documents\\Git\\Pontte\\automacaoCreditoFinanciamento\\Scripts\\Jupyter\\abrirPasta.ipynb Cell 2'\u001b[0m in \u001b[0;36m<cell line: 4>\u001b[1;34m()\u001b[0m\n\u001b[0;32m      <a href='vscode-notebook-cell:/c%3A/Users/Matheus/Documents/Git/Pontte/automacaoCreditoFinanciamento/Scripts/Jupyter/abrirPasta.ipynb#ch0000001?line=1'>2</a>\u001b[0m pathDestino \u001b[39m=\u001b[39m \u001b[39mr\u001b[39m\u001b[39m'\u001b[39m\u001b[39mG:\u001b[39m\u001b[39m\\\u001b[39m\u001b[39mDrives compartilhados\u001b[39m\u001b[39m\\\u001b[39m\u001b[39mPontte\u001b[39m\u001b[39m\\\u001b[39m\u001b[39mOperações\u001b[39m\u001b[39m\\\u001b[39m\u001b[39mProjetos\u001b[39m\u001b[39m\\\u001b[39m\u001b[39mAutomação de Crédito\u001b[39m\u001b[39m\\\u001b[39m\u001b[39mCasos_Analise_Bacen\u001b[39m\u001b[39m\\\u001b[39m\u001b[39mBase_Casos.xlsx\u001b[39m\u001b[39m'\u001b[39m\n\u001b[0;32m      <a href='vscode-notebook-cell:/c%3A/Users/Matheus/Documents/Git/Pontte/automacaoCreditoFinanciamento/Scripts/Jupyter/abrirPasta.ipynb#ch0000001?line=2'>3</a>\u001b[0m downloadRelatorio(\u001b[39m'\u001b[39m\u001b[39mhttps://app.pipefy.com/pipes/301487926/reports_v2/300284180\u001b[39m\u001b[39m'\u001b[39m)\n\u001b[1;32m----> <a href='vscode-notebook-cell:/c%3A/Users/Matheus/Documents/Git/Pontte/automacaoCreditoFinanciamento/Scripts/Jupyter/abrirPasta.ipynb#ch0000001?line=3'>4</a>\u001b[0m atualizarBase(pathDestino)\n\u001b[0;32m      <a href='vscode-notebook-cell:/c%3A/Users/Matheus/Documents/Git/Pontte/automacaoCreditoFinanciamento/Scripts/Jupyter/abrirPasta.ipynb#ch0000001?line=4'>5</a>\u001b[0m finalAtualizacao()\n",
      "File \u001b[1;32m~\\Documents\\Git\\Pontte\\automacaoCreditoFinanciamento\\Scripts\\baixarBase.py:99\u001b[0m, in \u001b[0;36matualizarBase\u001b[1;34m(pathDestino)\u001b[0m\n\u001b[0;32m     <a href='file:///c%3A/Users/Matheus/Documents/Git/Pontte/automacaoCreditoFinanciamento/Scripts/baixarBase.py?line=96'>97</a>\u001b[0m pathOrigem \u001b[39m=\u001b[39m \u001b[39mrf\u001b[39m\u001b[39m\"\u001b[39m\u001b[39mC:\u001b[39m\u001b[39m\\\u001b[39m\u001b[39mUsers\u001b[39m\u001b[39m\\\u001b[39m\u001b[39m{\u001b[39;00musuario\u001b[39m}\u001b[39;00m\u001b[39m\\\u001b[39m\u001b[39mDownloads\u001b[39m\u001b[39m\\\u001b[39m\u001b[39mrelatório_automação_crédito_\u001b[39m\u001b[39m{\u001b[39;00mdata_atual\u001b[39m}\u001b[39;00m\u001b[39m.xlsx\u001b[39m\u001b[39m\"\u001b[39m\n\u001b[0;32m     <a href='file:///c%3A/Users/Matheus/Documents/Git/Pontte/automacaoCreditoFinanciamento/Scripts/baixarBase.py?line=97'>98</a>\u001b[0m sleep(\u001b[39m5\u001b[39m)\n\u001b[1;32m---> <a href='file:///c%3A/Users/Matheus/Documents/Git/Pontte/automacaoCreditoFinanciamento/Scripts/baixarBase.py?line=98'>99</a>\u001b[0m base \u001b[39m=\u001b[39m xl\u001b[39m.\u001b[39;49mload_workbook(pathOrigem, data_only\u001b[39m=\u001b[39;49m\u001b[39mTrue\u001b[39;49;00m)\n\u001b[0;32m    <a href='file:///c%3A/Users/Matheus/Documents/Git/Pontte/automacaoCreditoFinanciamento/Scripts/baixarBase.py?line=99'>100</a>\u001b[0m origem \u001b[39m=\u001b[39m base[\u001b[39m\"\u001b[39m\u001b[39mReport\u001b[39m\u001b[39m\"\u001b[39m]\n\u001b[0;32m    <a href='file:///c%3A/Users/Matheus/Documents/Git/Pontte/automacaoCreditoFinanciamento/Scripts/baixarBase.py?line=100'>101</a>\u001b[0m destino \u001b[39m=\u001b[39m xl\u001b[39m.\u001b[39mload_workbook(pathDestino, data_only\u001b[39m=\u001b[39m\u001b[39mFalse\u001b[39;00m)\u001b[39m#, keep_vba=True#)\u001b[39;00m\n",
      "File \u001b[1;32mc:\\Users\\Matheus\\AppData\\Local\\Programs\\Python\\Python310\\lib\\site-packages\\openpyxl\\reader\\excel.py:315\u001b[0m, in \u001b[0;36mload_workbook\u001b[1;34m(filename, read_only, keep_vba, data_only, keep_links)\u001b[0m\n\u001b[0;32m    <a href='file:///c%3A/Users/Matheus/AppData/Local/Programs/Python/Python310/lib/site-packages/openpyxl/reader/excel.py?line=287'>288</a>\u001b[0m \u001b[39mdef\u001b[39;00m \u001b[39mload_workbook\u001b[39m(filename, read_only\u001b[39m=\u001b[39m\u001b[39mFalse\u001b[39;00m, keep_vba\u001b[39m=\u001b[39mKEEP_VBA,\n\u001b[0;32m    <a href='file:///c%3A/Users/Matheus/AppData/Local/Programs/Python/Python310/lib/site-packages/openpyxl/reader/excel.py?line=288'>289</a>\u001b[0m                   data_only\u001b[39m=\u001b[39m\u001b[39mFalse\u001b[39;00m, keep_links\u001b[39m=\u001b[39m\u001b[39mTrue\u001b[39;00m):\n\u001b[0;32m    <a href='file:///c%3A/Users/Matheus/AppData/Local/Programs/Python/Python310/lib/site-packages/openpyxl/reader/excel.py?line=289'>290</a>\u001b[0m     \u001b[39m\"\"\"Open the given filename and return the workbook\u001b[39;00m\n\u001b[0;32m    <a href='file:///c%3A/Users/Matheus/AppData/Local/Programs/Python/Python310/lib/site-packages/openpyxl/reader/excel.py?line=290'>291</a>\u001b[0m \n\u001b[0;32m    <a href='file:///c%3A/Users/Matheus/AppData/Local/Programs/Python/Python310/lib/site-packages/openpyxl/reader/excel.py?line=291'>292</a>\u001b[0m \u001b[39m    :param filename: the path to open or a file-like object\u001b[39;00m\n\u001b[1;32m   (...)\u001b[0m\n\u001b[0;32m    <a href='file:///c%3A/Users/Matheus/AppData/Local/Programs/Python/Python310/lib/site-packages/openpyxl/reader/excel.py?line=312'>313</a>\u001b[0m \n\u001b[0;32m    <a href='file:///c%3A/Users/Matheus/AppData/Local/Programs/Python/Python310/lib/site-packages/openpyxl/reader/excel.py?line=313'>314</a>\u001b[0m \u001b[39m    \"\"\"\u001b[39;00m\n\u001b[1;32m--> <a href='file:///c%3A/Users/Matheus/AppData/Local/Programs/Python/Python310/lib/site-packages/openpyxl/reader/excel.py?line=314'>315</a>\u001b[0m     reader \u001b[39m=\u001b[39m ExcelReader(filename, read_only, keep_vba,\n\u001b[0;32m    <a href='file:///c%3A/Users/Matheus/AppData/Local/Programs/Python/Python310/lib/site-packages/openpyxl/reader/excel.py?line=315'>316</a>\u001b[0m                         data_only, keep_links)\n\u001b[0;32m    <a href='file:///c%3A/Users/Matheus/AppData/Local/Programs/Python/Python310/lib/site-packages/openpyxl/reader/excel.py?line=316'>317</a>\u001b[0m     reader\u001b[39m.\u001b[39mread()\n\u001b[0;32m    <a href='file:///c%3A/Users/Matheus/AppData/Local/Programs/Python/Python310/lib/site-packages/openpyxl/reader/excel.py?line=317'>318</a>\u001b[0m     \u001b[39mreturn\u001b[39;00m reader\u001b[39m.\u001b[39mwb\n",
      "File \u001b[1;32mc:\\Users\\Matheus\\AppData\\Local\\Programs\\Python\\Python310\\lib\\site-packages\\openpyxl\\reader\\excel.py:124\u001b[0m, in \u001b[0;36mExcelReader.__init__\u001b[1;34m(self, fn, read_only, keep_vba, data_only, keep_links)\u001b[0m\n\u001b[0;32m    <a href='file:///c%3A/Users/Matheus/AppData/Local/Programs/Python/Python310/lib/site-packages/openpyxl/reader/excel.py?line=121'>122</a>\u001b[0m \u001b[39mdef\u001b[39;00m \u001b[39m__init__\u001b[39m(\u001b[39mself\u001b[39m,  fn, read_only\u001b[39m=\u001b[39m\u001b[39mFalse\u001b[39;00m, keep_vba\u001b[39m=\u001b[39mKEEP_VBA,\n\u001b[0;32m    <a href='file:///c%3A/Users/Matheus/AppData/Local/Programs/Python/Python310/lib/site-packages/openpyxl/reader/excel.py?line=122'>123</a>\u001b[0m               data_only\u001b[39m=\u001b[39m\u001b[39mFalse\u001b[39;00m, keep_links\u001b[39m=\u001b[39m\u001b[39mTrue\u001b[39;00m):\n\u001b[1;32m--> <a href='file:///c%3A/Users/Matheus/AppData/Local/Programs/Python/Python310/lib/site-packages/openpyxl/reader/excel.py?line=123'>124</a>\u001b[0m     \u001b[39mself\u001b[39m\u001b[39m.\u001b[39marchive \u001b[39m=\u001b[39m _validate_archive(fn)\n\u001b[0;32m    <a href='file:///c%3A/Users/Matheus/AppData/Local/Programs/Python/Python310/lib/site-packages/openpyxl/reader/excel.py?line=124'>125</a>\u001b[0m     \u001b[39mself\u001b[39m\u001b[39m.\u001b[39mvalid_files \u001b[39m=\u001b[39m \u001b[39mself\u001b[39m\u001b[39m.\u001b[39marchive\u001b[39m.\u001b[39mnamelist()\n\u001b[0;32m    <a href='file:///c%3A/Users/Matheus/AppData/Local/Programs/Python/Python310/lib/site-packages/openpyxl/reader/excel.py?line=125'>126</a>\u001b[0m     \u001b[39mself\u001b[39m\u001b[39m.\u001b[39mread_only \u001b[39m=\u001b[39m read_only\n",
      "File \u001b[1;32mc:\\Users\\Matheus\\AppData\\Local\\Programs\\Python\\Python310\\lib\\site-packages\\openpyxl\\reader\\excel.py:96\u001b[0m, in \u001b[0;36m_validate_archive\u001b[1;34m(filename)\u001b[0m\n\u001b[0;32m     <a href='file:///c%3A/Users/Matheus/AppData/Local/Programs/Python/Python310/lib/site-packages/openpyxl/reader/excel.py?line=88'>89</a>\u001b[0m             msg \u001b[39m=\u001b[39m (\u001b[39m'\u001b[39m\u001b[39mopenpyxl does not support \u001b[39m\u001b[39m%s\u001b[39;00m\u001b[39m file format, \u001b[39m\u001b[39m'\u001b[39m\n\u001b[0;32m     <a href='file:///c%3A/Users/Matheus/AppData/Local/Programs/Python/Python310/lib/site-packages/openpyxl/reader/excel.py?line=89'>90</a>\u001b[0m                    \u001b[39m'\u001b[39m\u001b[39mplease check you can open \u001b[39m\u001b[39m'\u001b[39m\n\u001b[0;32m     <a href='file:///c%3A/Users/Matheus/AppData/Local/Programs/Python/Python310/lib/site-packages/openpyxl/reader/excel.py?line=90'>91</a>\u001b[0m                    \u001b[39m'\u001b[39m\u001b[39mit with Excel first. \u001b[39m\u001b[39m'\u001b[39m\n\u001b[0;32m     <a href='file:///c%3A/Users/Matheus/AppData/Local/Programs/Python/Python310/lib/site-packages/openpyxl/reader/excel.py?line=91'>92</a>\u001b[0m                    \u001b[39m'\u001b[39m\u001b[39mSupported formats are: \u001b[39m\u001b[39m%s\u001b[39;00m\u001b[39m'\u001b[39m) \u001b[39m%\u001b[39m (file_format,\n\u001b[0;32m     <a href='file:///c%3A/Users/Matheus/AppData/Local/Programs/Python/Python310/lib/site-packages/openpyxl/reader/excel.py?line=92'>93</a>\u001b[0m                                                    \u001b[39m'\u001b[39m\u001b[39m,\u001b[39m\u001b[39m'\u001b[39m\u001b[39m.\u001b[39mjoin(SUPPORTED_FORMATS))\n\u001b[0;32m     <a href='file:///c%3A/Users/Matheus/AppData/Local/Programs/Python/Python310/lib/site-packages/openpyxl/reader/excel.py?line=93'>94</a>\u001b[0m         \u001b[39mraise\u001b[39;00m InvalidFileException(msg)\n\u001b[1;32m---> <a href='file:///c%3A/Users/Matheus/AppData/Local/Programs/Python/Python310/lib/site-packages/openpyxl/reader/excel.py?line=95'>96</a>\u001b[0m archive \u001b[39m=\u001b[39m ZipFile(filename, \u001b[39m'\u001b[39;49m\u001b[39mr\u001b[39;49m\u001b[39m'\u001b[39;49m)\n\u001b[0;32m     <a href='file:///c%3A/Users/Matheus/AppData/Local/Programs/Python/Python310/lib/site-packages/openpyxl/reader/excel.py?line=96'>97</a>\u001b[0m \u001b[39mreturn\u001b[39;00m archive\n",
      "File \u001b[1;32mc:\\Users\\Matheus\\AppData\\Local\\Programs\\Python\\Python310\\lib\\zipfile.py:1249\u001b[0m, in \u001b[0;36mZipFile.__init__\u001b[1;34m(self, file, mode, compression, allowZip64, compresslevel, strict_timestamps)\u001b[0m\n\u001b[0;32m   <a href='file:///c%3A/Users/Matheus/AppData/Local/Programs/Python/Python310/lib/zipfile.py?line=1246'>1247</a>\u001b[0m \u001b[39mwhile\u001b[39;00m \u001b[39mTrue\u001b[39;00m:\n\u001b[0;32m   <a href='file:///c%3A/Users/Matheus/AppData/Local/Programs/Python/Python310/lib/zipfile.py?line=1247'>1248</a>\u001b[0m     \u001b[39mtry\u001b[39;00m:\n\u001b[1;32m-> <a href='file:///c%3A/Users/Matheus/AppData/Local/Programs/Python/Python310/lib/zipfile.py?line=1248'>1249</a>\u001b[0m         \u001b[39mself\u001b[39m\u001b[39m.\u001b[39mfp \u001b[39m=\u001b[39m io\u001b[39m.\u001b[39;49mopen(file, filemode)\n\u001b[0;32m   <a href='file:///c%3A/Users/Matheus/AppData/Local/Programs/Python/Python310/lib/zipfile.py?line=1249'>1250</a>\u001b[0m     \u001b[39mexcept\u001b[39;00m \u001b[39mOSError\u001b[39;00m:\n\u001b[0;32m   <a href='file:///c%3A/Users/Matheus/AppData/Local/Programs/Python/Python310/lib/zipfile.py?line=1250'>1251</a>\u001b[0m         \u001b[39mif\u001b[39;00m filemode \u001b[39min\u001b[39;00m modeDict:\n",
      "\u001b[1;31mFileNotFoundError\u001b[0m: [Errno 2] No such file or directory: 'C:\\\\Users\\\\Matheus\\\\Downloads\\\\relatório_automação_crédito_20-05-2022.xlsx'"
     ]
    }
   ],
   "source": [
    "#Baixar e Atualizar Base\n",
    "pathDestino = r'G:\\Drives compartilhados\\Pontte\\Operações\\Projetos\\Automação de Crédito\\Casos_Analise_Bacen\\Base_Casos.xlsx'\n",
    "downloadRelatorio('https://app.pipefy.com/pipes/301487926/reports_v2/300284180')\n",
    "atualizarBase(pathDestino)\n",
    "finalAtualizacao()"
   ]
  },
  {
   "cell_type": "code",
   "execution_count": 2,
   "metadata": {},
   "outputs": [],
   "source": [
    "#Criar Data Frame da Base Atualizada\n",
    "pathBase = r'G:\\Drives compartilhados\\Pontte\\Operações\\Projetos\\Automação de Crédito\\Casos_Analise_Bacen\\Base_Casos.xlsx'\n",
    "df = pd.read_excel(pathBase)\n",
    "#df.head(1)"
   ]
  },
  {
   "cell_type": "code",
   "execution_count": 3,
   "metadata": {},
   "outputs": [
    {
     "data": {
      "text/plain": [
       "Data de Nascimento - 2o Pagador(a)  Qual a sua data de nascimento?\n",
       "1961-09-13                          1962-02-04                        1\n",
       "dtype: int64"
      ]
     },
     "execution_count": 3,
     "metadata": {},
     "output_type": "execute_result"
    }
   ],
   "source": [
    "df[['Data de Nascimento - 2o Pagador(a)', 'Qual a sua data de nascimento?']].value_counts()"
   ]
  },
  {
   "cell_type": "code",
   "execution_count": 6,
   "metadata": {},
   "outputs": [
    {
     "name": "stdout",
     "output_type": "stream",
     "text": [
      "Inicio do processo de login\n",
      "login realizado\n"
     ]
    },
    {
     "name": "stderr",
     "output_type": "stream",
     "text": [
      "c:\\Users\\Matheus\\AppData\\Local\\Programs\\Python\\Python310\\lib\\site-packages\\openpyxl\\worksheet\\_reader.py:312: UserWarning: Data Validation extension is not supported and will be removed\n",
      "  warn(msg)\n",
      "c:\\Users\\Matheus\\AppData\\Local\\Programs\\Python\\Python310\\lib\\site-packages\\openpyxl\\comments\\shape_writer.py:74: FutureWarning: The behavior of this method will change in future versions. Use specific 'len(elem)' or 'elem is not None' test instead.\n",
      "  if not shape_types:\n"
     ]
    },
    {
     "ename": "InvalidSessionIdException",
     "evalue": "Message: invalid session id\nStacktrace:\nBacktrace:\n\tOrdinal0 [0x00DF7413+2389011]\n\tOrdinal0 [0x00D89F61+1941345]\n\tOrdinal0 [0x00C7C520+836896]\n\tOrdinal0 [0x00C9DFC0+974784]\n\tOrdinal0 [0x00CC4040+1130560]\n\tOrdinal0 [0x00CC1E88+1121928]\n\tOrdinal0 [0x00CC1A29+1120809]\n\tOrdinal0 [0x00C5D207+709127]\n\tOrdinal0 [0x00C5D783+710531]\n\tOrdinal0 [0x00C5DBBA+711610]\n\tGetHandleVerifier [0x00FA9632+1727522]\n\tGetHandleVerifier [0x0105BA4D+2457661]\n\tGetHandleVerifier [0x00E8EB81+569713]\n\tGetHandleVerifier [0x00E8DD76+566118]\n\tOrdinal0 [0x00D90B2B+1968939]\n\tOrdinal0 [0x00C5CF97+708503]\n\tOrdinal0 [0x00C5CA48+707144]\n\tGetHandleVerifier [0x0108110C+2610940]\n\tBaseThreadInitThunk [0x75AEFA29+25]\n\tRtlGetAppContainerNamedObjectPath [0x776D7A7E+286]\n\tRtlGetAppContainerNamedObjectPath [0x776D7A4E+238]\n",
     "output_type": "error",
     "traceback": [
      "\u001b[1;31m---------------------------------------------------------------------------\u001b[0m",
      "\u001b[1;31mInvalidSessionIdException\u001b[0m                 Traceback (most recent call last)",
      "\u001b[1;32mc:\\Users\\Matheus\\Documents\\Git\\Pontte\\automacaoCreditoFinanciamento\\Scripts\\Jupyter\\abrirPasta.ipynb Cell 5'\u001b[0m in \u001b[0;36m<cell line: 21>\u001b[1;34m()\u001b[0m\n\u001b[0;32m     <a href='vscode-notebook-cell:/c%3A/Users/Matheus/Documents/Git/Pontte/automacaoCreditoFinanciamento/Scripts/Jupyter/abrirPasta.ipynb#ch0000004?line=56'>57</a>\u001b[0m \u001b[39mif\u001b[39;00m \u001b[39mnot\u001b[39;00m os\u001b[39m.\u001b[39mpath\u001b[39m.\u001b[39mexists(destino):\n\u001b[0;32m     <a href='vscode-notebook-cell:/c%3A/Users/Matheus/Documents/Git/Pontte/automacaoCreditoFinanciamento/Scripts/Jupyter/abrirPasta.ipynb#ch0000004?line=57'>58</a>\u001b[0m     shutil\u001b[39m.\u001b[39mcopytree(origem, destino)\n\u001b[1;32m---> <a href='vscode-notebook-cell:/c%3A/Users/Matheus/Documents/Git/Pontte/automacaoCreditoFinanciamento/Scripts/Jupyter/abrirPasta.ipynb#ch0000004?line=58'>59</a>\u001b[0m     \u001b[39mdict\u001b[39m \u001b[39m=\u001b[39m listarAnexos(linkPipefy, destino)\n\u001b[0;32m     <a href='vscode-notebook-cell:/c%3A/Users/Matheus/Documents/Git/Pontte/automacaoCreditoFinanciamento/Scripts/Jupyter/abrirPasta.ipynb#ch0000004?line=59'>60</a>\u001b[0m     \u001b[39mif\u001b[39;00m nomeCompleto \u001b[39mis\u001b[39;00m \u001b[39mnot\u001b[39;00m \u001b[39mNone\u001b[39;00m:\n\u001b[0;32m     <a href='vscode-notebook-cell:/c%3A/Users/Matheus/Documents/Git/Pontte/automacaoCreditoFinanciamento/Scripts/Jupyter/abrirPasta.ipynb#ch0000004?line=60'>61</a>\u001b[0m         renomearCPF1 \u001b[39m=\u001b[39m \u001b[39mrf\u001b[39m\u001b[39m'\u001b[39m\u001b[39mG:\u001b[39m\u001b[39m\\\u001b[39m\u001b[39mDrives compartilhados\u001b[39m\u001b[39m\\\u001b[39m\u001b[39mPontte\u001b[39m\u001b[39m\\\u001b[39m\u001b[39mOperações\u001b[39m\u001b[39m\\\u001b[39m\u001b[39mProjetos\u001b[39m\u001b[39m\\\u001b[39m\u001b[39mAutomação de Crédito\u001b[39m\u001b[39m\\\u001b[39m\u001b[39mSimulação\u001b[39m\u001b[39m\\\u001b[39m\u001b[39m{\u001b[39;00mnomeCompleto\u001b[39m}\u001b[39;00m\u001b[39m - \u001b[39m\u001b[39m{\u001b[39;00mcodigoPipefy\u001b[39m}\u001b[39;00m\u001b[39m\\\u001b[39m\u001b[39mCrédito\u001b[39m\u001b[39m\\\u001b[39m\u001b[39mDocumentos pessoais\u001b[39m\u001b[39m\\\u001b[39m\u001b[39mCPF1\u001b[39m\u001b[39m'\u001b[39m\n",
      "File \u001b[1;32m~\\Documents\\Git\\Pontte\\automacaoCreditoFinanciamento\\Scripts\\anexosCliente.py:41\u001b[0m, in \u001b[0;36mlistarAnexos\u001b[1;34m(linkDoPipefy, pathClient)\u001b[0m\n\u001b[0;32m     <a href='file:///c%3A/Users/Matheus/Documents/Git/Pontte/automacaoCreditoFinanciamento/Scripts/anexosCliente.py?line=38'>39</a>\u001b[0m \u001b[39mdef\u001b[39;00m \u001b[39mlistarAnexos\u001b[39m(linkDoPipefy, pathClient):\n\u001b[0;32m     <a href='file:///c%3A/Users/Matheus/Documents/Git/Pontte/automacaoCreditoFinanciamento/Scripts/anexosCliente.py?line=39'>40</a>\u001b[0m     \u001b[39m#Fazer Login\u001b[39;00m\n\u001b[1;32m---> <a href='file:///c%3A/Users/Matheus/Documents/Git/Pontte/automacaoCreditoFinanciamento/Scripts/anexosCliente.py?line=40'>41</a>\u001b[0m     fazerLogin()\n\u001b[0;32m     <a href='file:///c%3A/Users/Matheus/Documents/Git/Pontte/automacaoCreditoFinanciamento/Scripts/anexosCliente.py?line=41'>42</a>\u001b[0m     sleep(\u001b[39m5\u001b[39m)\n\u001b[0;32m     <a href='file:///c%3A/Users/Matheus/Documents/Git/Pontte/automacaoCreditoFinanciamento/Scripts/anexosCliente.py?line=42'>43</a>\u001b[0m     \u001b[39m#Entrar no Card do Cliente\u001b[39;00m\n",
      "File \u001b[1;32m~\\Documents\\Git\\Pontte\\automacaoCreditoFinanciamento\\Scripts\\anexosCliente.py:20\u001b[0m, in \u001b[0;36mfazerLogin\u001b[1;34m()\u001b[0m\n\u001b[0;32m     <a href='file:///c%3A/Users/Matheus/Documents/Git/Pontte/automacaoCreditoFinanciamento/Scripts/anexosCliente.py?line=17'>18</a>\u001b[0m \u001b[39mdef\u001b[39;00m \u001b[39mfazerLogin\u001b[39m():\n\u001b[0;32m     <a href='file:///c%3A/Users/Matheus/Documents/Git/Pontte/automacaoCreditoFinanciamento/Scripts/anexosCliente.py?line=18'>19</a>\u001b[0m     \u001b[39m#Site que irá abrir\u001b[39;00m\n\u001b[1;32m---> <a href='file:///c%3A/Users/Matheus/Documents/Git/Pontte/automacaoCreditoFinanciamento/Scripts/anexosCliente.py?line=19'>20</a>\u001b[0m     driver\u001b[39m.\u001b[39;49mget(\u001b[39m'\u001b[39;49m\u001b[39mhttps://app.pipefy.com/\u001b[39;49m\u001b[39m'\u001b[39;49m)\n\u001b[0;32m     <a href='file:///c%3A/Users/Matheus/Documents/Git/Pontte/automacaoCreditoFinanciamento/Scripts/anexosCliente.py?line=21'>22</a>\u001b[0m     sleep(\u001b[39m5\u001b[39m)\n\u001b[0;32m     <a href='file:///c%3A/Users/Matheus/Documents/Git/Pontte/automacaoCreditoFinanciamento/Scripts/anexosCliente.py?line=23'>24</a>\u001b[0m     \u001b[39m#### Inicio Processo de Login ####\u001b[39;00m\n\u001b[0;32m     <a href='file:///c%3A/Users/Matheus/Documents/Git/Pontte/automacaoCreditoFinanciamento/Scripts/anexosCliente.py?line=24'>25</a>\u001b[0m \n\u001b[0;32m     <a href='file:///c%3A/Users/Matheus/Documents/Git/Pontte/automacaoCreditoFinanciamento/Scripts/anexosCliente.py?line=25'>26</a>\u001b[0m     \u001b[39m#Identifica e retorna os elementos\u001b[39;00m\n",
      "File \u001b[1;32mc:\\Users\\Matheus\\AppData\\Local\\Programs\\Python\\Python310\\lib\\site-packages\\selenium\\webdriver\\remote\\webdriver.py:437\u001b[0m, in \u001b[0;36mWebDriver.get\u001b[1;34m(self, url)\u001b[0m\n\u001b[0;32m    <a href='file:///c%3A/Users/Matheus/AppData/Local/Programs/Python/Python310/lib/site-packages/selenium/webdriver/remote/webdriver.py?line=432'>433</a>\u001b[0m \u001b[39mdef\u001b[39;00m \u001b[39mget\u001b[39m(\u001b[39mself\u001b[39m, url: \u001b[39mstr\u001b[39m) \u001b[39m-\u001b[39m\u001b[39m>\u001b[39m \u001b[39mNone\u001b[39;00m:\n\u001b[0;32m    <a href='file:///c%3A/Users/Matheus/AppData/Local/Programs/Python/Python310/lib/site-packages/selenium/webdriver/remote/webdriver.py?line=433'>434</a>\u001b[0m     \u001b[39m\"\"\"\u001b[39;00m\n\u001b[0;32m    <a href='file:///c%3A/Users/Matheus/AppData/Local/Programs/Python/Python310/lib/site-packages/selenium/webdriver/remote/webdriver.py?line=434'>435</a>\u001b[0m \u001b[39m    Loads a web page in the current browser session.\u001b[39;00m\n\u001b[0;32m    <a href='file:///c%3A/Users/Matheus/AppData/Local/Programs/Python/Python310/lib/site-packages/selenium/webdriver/remote/webdriver.py?line=435'>436</a>\u001b[0m \u001b[39m    \"\"\"\u001b[39;00m\n\u001b[1;32m--> <a href='file:///c%3A/Users/Matheus/AppData/Local/Programs/Python/Python310/lib/site-packages/selenium/webdriver/remote/webdriver.py?line=436'>437</a>\u001b[0m     \u001b[39mself\u001b[39;49m\u001b[39m.\u001b[39;49mexecute(Command\u001b[39m.\u001b[39;49mGET, {\u001b[39m'\u001b[39;49m\u001b[39murl\u001b[39;49m\u001b[39m'\u001b[39;49m: url})\n",
      "File \u001b[1;32mc:\\Users\\Matheus\\AppData\\Local\\Programs\\Python\\Python310\\lib\\site-packages\\selenium\\webdriver\\remote\\webdriver.py:425\u001b[0m, in \u001b[0;36mWebDriver.execute\u001b[1;34m(self, driver_command, params)\u001b[0m\n\u001b[0;32m    <a href='file:///c%3A/Users/Matheus/AppData/Local/Programs/Python/Python310/lib/site-packages/selenium/webdriver/remote/webdriver.py?line=422'>423</a>\u001b[0m response \u001b[39m=\u001b[39m \u001b[39mself\u001b[39m\u001b[39m.\u001b[39mcommand_executor\u001b[39m.\u001b[39mexecute(driver_command, params)\n\u001b[0;32m    <a href='file:///c%3A/Users/Matheus/AppData/Local/Programs/Python/Python310/lib/site-packages/selenium/webdriver/remote/webdriver.py?line=423'>424</a>\u001b[0m \u001b[39mif\u001b[39;00m response:\n\u001b[1;32m--> <a href='file:///c%3A/Users/Matheus/AppData/Local/Programs/Python/Python310/lib/site-packages/selenium/webdriver/remote/webdriver.py?line=424'>425</a>\u001b[0m     \u001b[39mself\u001b[39;49m\u001b[39m.\u001b[39;49merror_handler\u001b[39m.\u001b[39;49mcheck_response(response)\n\u001b[0;32m    <a href='file:///c%3A/Users/Matheus/AppData/Local/Programs/Python/Python310/lib/site-packages/selenium/webdriver/remote/webdriver.py?line=425'>426</a>\u001b[0m     response[\u001b[39m'\u001b[39m\u001b[39mvalue\u001b[39m\u001b[39m'\u001b[39m] \u001b[39m=\u001b[39m \u001b[39mself\u001b[39m\u001b[39m.\u001b[39m_unwrap_value(\n\u001b[0;32m    <a href='file:///c%3A/Users/Matheus/AppData/Local/Programs/Python/Python310/lib/site-packages/selenium/webdriver/remote/webdriver.py?line=426'>427</a>\u001b[0m         response\u001b[39m.\u001b[39mget(\u001b[39m'\u001b[39m\u001b[39mvalue\u001b[39m\u001b[39m'\u001b[39m, \u001b[39mNone\u001b[39;00m))\n\u001b[0;32m    <a href='file:///c%3A/Users/Matheus/AppData/Local/Programs/Python/Python310/lib/site-packages/selenium/webdriver/remote/webdriver.py?line=427'>428</a>\u001b[0m     \u001b[39mreturn\u001b[39;00m response\n",
      "File \u001b[1;32mc:\\Users\\Matheus\\AppData\\Local\\Programs\\Python\\Python310\\lib\\site-packages\\selenium\\webdriver\\remote\\errorhandler.py:247\u001b[0m, in \u001b[0;36mErrorHandler.check_response\u001b[1;34m(self, response)\u001b[0m\n\u001b[0;32m    <a href='file:///c%3A/Users/Matheus/AppData/Local/Programs/Python/Python310/lib/site-packages/selenium/webdriver/remote/errorhandler.py?line=244'>245</a>\u001b[0m         alert_text \u001b[39m=\u001b[39m value[\u001b[39m'\u001b[39m\u001b[39malert\u001b[39m\u001b[39m'\u001b[39m]\u001b[39m.\u001b[39mget(\u001b[39m'\u001b[39m\u001b[39mtext\u001b[39m\u001b[39m'\u001b[39m)\n\u001b[0;32m    <a href='file:///c%3A/Users/Matheus/AppData/Local/Programs/Python/Python310/lib/site-packages/selenium/webdriver/remote/errorhandler.py?line=245'>246</a>\u001b[0m     \u001b[39mraise\u001b[39;00m exception_class(message, screen, stacktrace, alert_text)  \u001b[39m# type: ignore[call-arg]  # mypy is not smart enough here\u001b[39;00m\n\u001b[1;32m--> <a href='file:///c%3A/Users/Matheus/AppData/Local/Programs/Python/Python310/lib/site-packages/selenium/webdriver/remote/errorhandler.py?line=246'>247</a>\u001b[0m \u001b[39mraise\u001b[39;00m exception_class(message, screen, stacktrace)\n",
      "\u001b[1;31mInvalidSessionIdException\u001b[0m: Message: invalid session id\nStacktrace:\nBacktrace:\n\tOrdinal0 [0x00DF7413+2389011]\n\tOrdinal0 [0x00D89F61+1941345]\n\tOrdinal0 [0x00C7C520+836896]\n\tOrdinal0 [0x00C9DFC0+974784]\n\tOrdinal0 [0x00CC4040+1130560]\n\tOrdinal0 [0x00CC1E88+1121928]\n\tOrdinal0 [0x00CC1A29+1120809]\n\tOrdinal0 [0x00C5D207+709127]\n\tOrdinal0 [0x00C5D783+710531]\n\tOrdinal0 [0x00C5DBBA+711610]\n\tGetHandleVerifier [0x00FA9632+1727522]\n\tGetHandleVerifier [0x0105BA4D+2457661]\n\tGetHandleVerifier [0x00E8EB81+569713]\n\tGetHandleVerifier [0x00E8DD76+566118]\n\tOrdinal0 [0x00D90B2B+1968939]\n\tOrdinal0 [0x00C5CF97+708503]\n\tOrdinal0 [0x00C5CA48+707144]\n\tGetHandleVerifier [0x0108110C+2610940]\n\tBaseThreadInitThunk [0x75AEFA29+25]\n\tRtlGetAppContainerNamedObjectPath [0x776D7A7E+286]\n\tRtlGetAppContainerNamedObjectPath [0x776D7A4E+238]\n"
     ]
    }
   ],
   "source": [
    "final = len(df)\n",
    "#final = 1\n",
    "def deParaimovel(varImovel):\n",
    "    if varImovel == \"Casa Padrão\" or varImovel == \"Casa de Condomínio\":\n",
    "        varImovel = \"Casa\"\n",
    "    return varImovel\n",
    "def deParaOps(varOps):\n",
    "    if varOps == \"Pessoa Física\":\n",
    "        varOps = \"PF\"\n",
    "    elif varOps == \"Pessoa Jurídica\":\n",
    "        varOps = \"PJ\"\n",
    "    return varOps\n",
    "def converterDatas(date):\n",
    "    try:\n",
    "        date_obj = datetime.strptime(str(date), '%Y-%m-%d')\n",
    "        date = date_obj.strftime(\"%d/%m/%Y\")\n",
    "    except:\n",
    "        pass\n",
    "    return date\n",
    "    \n",
    "for i in range(0,final):\n",
    "    \n",
    "    codigoPipefy = df.iloc[i]['Código']\n",
    "    linkPipefy = \"https://app.pipefy.com/open-cards/\" + str(codigoPipefy)\n",
    "    nomeCompleto = df.iloc[i]['Qual é o seu nome completo?']\n",
    "    tipoOps = df.iloc[i]['Tipo de Operação']\n",
    "    tipoOps = deParaOps(tipoOps)\n",
    "    cpf = df.iloc[i]['E o seu CPF?']\n",
    "    dataNascimento = df.iloc[i]['Qual a sua data de nascimento?']\n",
    "    dataNascimento = converterDatas(dataNascimento)\n",
    "    comporRenda = df.iloc[i]['Deseja compor renda com alguém?']\n",
    "    nomeComporRenda = df.iloc[i]['Nome Completo - 2o Pagador(a)']\n",
    "    cpfComporRenda = df.iloc[i]['CPF - 2o Pagador(a)']\n",
    "    dataNascimentoComporRenda = df.iloc[i]['Data de Nascimento - 2o Pagador(a)']\n",
    "    dataNascimentoComporRenda = converterDatas(dataNascimentoComporRenda)\n",
    "    valorImovel = df.iloc[i]['Qual o valor total do imóvel que você quer comprar?']\n",
    "    valorLiquido = df.iloc[i]['Quanto do valor do imóvel você quer financiar?']\n",
    "    qtdParcelas = df.iloc[i]['Selecione a quantidade de parcelas do seu financiamento']\n",
    "    qtdParcelas = re.sub('[^0-9]', '', qtdParcelas)\n",
    "    carencia = df.iloc[i]['Você precisa de uma carência antes de começar a pagar suas parcelas?']\n",
    "    carencia = re.sub('[^0-9]', '', carencia)\n",
    "    #new\n",
    "    tipoImovel = df.iloc[i]['Qual é o tipo de Imóvel?']\n",
    "    tipoImovel = deParaimovel(tipoImovel)\n",
    "    eSocio = df.iloc[i]['Você é sócio(a) de alguma empresa?']\n",
    "    razaoSocial = df.iloc[i]['Razão Social Empresa']\n",
    "    cnpjEmpresa = df.iloc[i]['CNPJ Empresa']\n",
    "    areaImovel = df.iloc[i]['Qual é a área útil do imóvel?']\n",
    "    enderecoImovel = df.iloc[i]['Qual o endereço do imóvel de interesse?']\n",
    "    itbi = enderecoImovel = df.iloc[i]['Deseja incluir ITBI e Registro no financiamento?']\n",
    "\n",
    "    origem = r\"G:\\Drives compartilhados\\Pontte\\Operações\\Projetos\\Automação de Crédito\\Simulação\\1_Template\"\n",
    "    destino = rf\"G:\\Drives compartilhados\\Pontte\\Operações\\Projetos\\Automação de Crédito\\Simulação\\{nomeCompleto} - {codigoPipefy}\" \n",
    "\n",
    "    \n",
    "\n",
    "    if not os.path.exists(destino):\n",
    "        shutil.copytree(origem, destino)\n",
    "        dict = listarAnexos(linkPipefy, destino)\n",
    "        if nomeCompleto is not None:\n",
    "            renomearCPF1 = rf'G:\\Drives compartilhados\\Pontte\\Operações\\Projetos\\Automação de Crédito\\Simulação\\{nomeCompleto} - {codigoPipefy}\\Crédito\\Documentos pessoais\\CPF1'\n",
    "            renomeadoCPF1 = rf'G:\\Drives compartilhados\\Pontte\\Operações\\Projetos\\Automação de Crédito\\Simulação\\{nomeCompleto} - {codigoPipefy}\\Crédito\\Documentos pessoais\\{nomeCompleto} - {cpf}'\n",
    "            os.rename(renomearCPF1,renomeadoCPF1)\n",
    "            if comporRenda == \"Sim\":\n",
    "                renomearCPF2 = rf'G:\\Drives compartilhados\\Pontte\\Operações\\Projetos\\Automação de Crédito\\Simulação\\{nomeCompleto} - {codigoPipefy}\\Crédito\\Documentos pessoais\\CPF2'\n",
    "                renomeadoCPF2 = rf'G:\\Drives compartilhados\\Pontte\\Operações\\Projetos\\Automação de Crédito\\Simulação\\{nomeCompleto} - {codigoPipefy}\\Crédito\\Documentos pessoais\\{nomeComporRenda} - {cpfComporRenda}'\n",
    "                os.rename(renomearCPF2,renomeadoCPF2)\n",
    "        \n",
    "        baixarEMover(destino, dict, nomeCompleto, cpf, nomeComporRenda, cpfComporRenda)\n",
    "        \n",
    "        #Manipulação do simulador do Excel\n",
    "        try:\n",
    "            pathSpreadSheet = glob.glob(destino+\"\\*.xlsm\") #Pegar Caminho do Simulador dentro da pasta do cliente\n",
    "            pathSpreadSheet = pathSpreadSheet[0] #Transformar de Lista ---> STR\n",
    "            wb = xl.load_workbook(pathSpreadSheet, read_only=False, keep_vba=True) #Carregar a planilha\n",
    "            #Abrir Abas\n",
    "            ws = wb['Resumo']\n",
    "            ws2 = wb['Avaliacao']\n",
    "            #Escrever nas planilhas\n",
    "            ws[\"C8\"].value = qtdParcelas\n",
    "            ws[\"C10\"].value = carencia\n",
    "            ws[\"C11\"].value = valorLiquido\n",
    "            ws[\"C12\"].value = 0\n",
    "            ws[\"C13\"].value = valorImovel\n",
    "            ws[\"C14\"].value = itbi\n",
    "            ws[\"C15\"].value = tipoOps\n",
    "            ws[\"C16\"].value = tipoImovel\n",
    "            #Nomes\n",
    "            ws[\"C19\"].value = nomeCompleto\n",
    "            ws[\"C20\"].value = nomeComporRenda\n",
    "            ws[\"C21\"].value = razaoSocial\n",
    "            #dataNascimento\n",
    "            ws[\"C24\"].value = dataNascimento\n",
    "            ws[\"C25\"].value = dataNascimentoComporRenda\n",
    "            #Link\n",
    "            ws[\"C29\"].value = linkPipefy\n",
    "            #CPF e CNPJ\n",
    "            ws[\"C30\"].value = cpf\n",
    "            ws[\"C31\"].value = cpfComporRenda\n",
    "            ws[\"C32\"].value = cnpjEmpresa\n",
    "            \n",
    "            #Avaliacao\n",
    "            ws2[\"F9\"].value = areaImovel\n",
    "\n",
    "            #Salvar e Fechar\n",
    "            wb.save(pathSpreadSheet)\n",
    "            wb.close()\n",
    "        except:\n",
    "            print('Erro ao preencher Excel!')"
   ]
  }
 ],
 "metadata": {
  "interpreter": {
   "hash": "9a3b07ba528c89038647187279d5e29ba231df4ea6aa016e93723a294652464d"
  },
  "kernelspec": {
   "display_name": "Python 3.10.4 64-bit",
   "language": "python",
   "name": "python3"
  },
  "language_info": {
   "codemirror_mode": {
    "name": "ipython",
    "version": 3
   },
   "file_extension": ".py",
   "mimetype": "text/x-python",
   "name": "python",
   "nbconvert_exporter": "python",
   "pygments_lexer": "ipython3",
   "version": "3.10.4"
  },
  "orig_nbformat": 4
 },
 "nbformat": 4,
 "nbformat_minor": 2
}
