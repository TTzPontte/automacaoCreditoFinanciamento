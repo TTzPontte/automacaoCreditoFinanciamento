{
 "cells": [
  {
   "cell_type": "code",
   "execution_count": 16,
   "metadata": {},
   "outputs": [],
   "source": [
    "txt = r\"G:\\Drives compartilhados\\Pontte\\Operações\\Projetos\\Automação de Crédito\\Simulação\\Leonardo Alcantara Cunha Lima - 527313463\\dict.txt\"\n",
    "dict1 = {\"Anexos do Email\": [], \"Bacen\": [\"https://app-storage-service.pipefy.com/v1/resources/cards-v1/527313463/uploads/31bfa394-cc98-442f-8d23-c203ca7edc8b/L.T.IONFODONTOLOGIALTDA-29347232000100-2022-05-06.pdf\", \"https://app-storage-service.pipefy.com/v1/resources/cards-v1/527313463/uploads/7f26274c-a7b1-4dd7-9322-32693f6db158/LeonardoAlcantaraCunhaLima-07891118701-2022-05-06.json\", \"https://app-storage-service.pipefy.com/v1/resources/cards-v1/527313463/uploads/77cf3ca3-2de7-45bf-b11f-57c6323901a2/LeonardoAlcantaraCunhaLima-07891118701-2022-05-06.pdf\", \"https://app-storage-service.pipefy.com/v1/resources/cards-v1/527313463/uploads/36ad6030-5b40-44eb-b98e-8bfc99fbc56d/ThaynaSilvaRosaMoreira-15635340709-2022-05-06.json\", \"https://app-storage-service.pipefy.com/v1/resources/cards-v1/527313463/uploads/0a199fd0-3678-4662-b21c-7b665e41cdfa/ThaynaSilvaRosaMoreira-15635340709-2022-05-06.pdf\"], \"Certidão de Estado Civil \": [\"https://app-storage-service.pipefy.com/v1/resources/cards-v1/527313463/uploads/17cd9578-dccd-4b8c-9d31-857998739cb3/CERTIDAO_CASAMENTO_LEONARDO.pdf\"], \"Comprovante de Residência\": [\"https://app-storage-service.pipefy.com/v1/resources/cards-v1/527313463/uploads/785a90fb-90d4-4f9c-a48b-f00b2cded812/COMPROVANTE_RESIDENCIA_LEONARDO.pdf\"], \"Extrato Bancário Últimos 3 meses (Restored)\": [], \"Precisamos de uma foto do seu RG, CNH ou RNE\": [\"https://app-storage-service.pipefy.com/v1/resources/cards-v1/527313463/uploads/8294bd69-df55-4ff9-a1ad-90f877903ad9/LeonardoAlcantaraCunhaLima-cnhLeonardo.jpeg\", \"https://app-storage-service.pipefy.com/v1/resources/cards-v1/527313463/uploads/002d0810-4beb-4298-8a09-7015ee2dd04b/LeonardoAlcantaraCunhaLima-CNH.jpeg\"], \"Foto de RG ou CNH - 2o Pagador(a)\": [\"https://app-storage-service.pipefy.com/v1/resources/cards-v1/527313463/uploads/d099e485-5bdf-4a6e-953b-2cb67a28f23d/LeonardoAlcantaraCunhaLima-Identidadedaesposaverso.jpeg\", \"https://app-storage-service.pipefy.com/v1/resources/cards-v1/527313463/uploads/b5e6d43c-b76b-44f0-ab37-f6a477ff94dd/LeonardoAlcantaraCunhaLima-Identidadedaesposa.jpeg\"], \"IRPF\": [\"https://app-storage-service.pipefy.com/v1/resources/cards-v1/527313463/uploads/639e6aad-7c33-4b76-a548-badf6633164c/IRPF_LEONARDO.pdf\", \"https://app-storage-service.pipefy.com/v1/resources/cards-v1/527313463/uploads/3f07f7d5-c5c2-49b5-9ef5-399b3ba35cd5/IRPF_LEONARDO_RECIBO.pdf\"], \"Extrato bancário últimos 3 meses (2º proponente)\": [\"https://app-storage-service.pipefy.com/v1/resources/cards-v1/527313463/uploads/39989003-254d-46c2-88d9-65ac50447aa0/THAYNA_SICREDI_SET_OUT_NOV_DEZ_JAN_FEV.pdf\", \"https://app-storage-service.pipefy.com/v1/resources/cards-v1/527313463/uploads/398c1ff9-5732-4a65-8f39-961a6b9e070e/THAYNA_SICREDI_FEV_MAR.pdf\"], \"Holerite\": [], \"Holerite (2º proponente)\": [], \"Contrato Social\": [\"https://app-storage-service.pipefy.com/v1/resources/cards-v1/527313463/uploads/88307d0d-6f4b-4a75-86f2-e14d7664285a/CONTRATO_SOCIAL_IONF.pdf\"], \"Faturamento 3 anos\": [\"https://app-storage-service.pipefy.com/v1/resources/cards-v1/527313463/uploads/4120418b-f00c-4fba-9b1a-04c140d044e3/FATURAMENTO_IONF.pdf\"], \"Balanço Patrimonial 3 anos\": [\"https://app-storage-service.pipefy.com/v1/resources/cards-v1/527313463/uploads/a5add382-be24-4d40-a738-085bc1a45b56/EXTRATO_SIMPLES_NACIONAL_IONF.pdf\", \"https://app-storage-service.pipefy.com/v1/resources/cards-v1/527313463/uploads/141c1183-8c90-4333-bf1a-04c88ac2ca17/SIMPLES_NACIONAL_IONF.pdf\"], \"DRE 3 anos\": [], \"Matrícula do imóvel\": [\"https://app-storage-service.pipefy.com/v1/resources/cards-v1/527313463/uploads/f2af33e9-86aa-4e12-854b-379b43bf5db6/SALDO_DEVEDOR_CEF_IMOVEL.jpeg\", \"https://app-storage-service.pipefy.com/v1/resources/cards-v1/527313463/uploads/6144cfea-46d8-4e7f-af8a-f7f1e93647db/MATRICULA_LEONARDO.pdf\"], \"CCV\": [], \"Capa IPTU\": [\"https://app-storage-service.pipefy.com/v1/resources/cards-v1/527313463/uploads/58468187-58ab-4e9e-9d57-5890d332c072/CADASTRO_IMOVEL_LEONARDO.pdf\"], \"Fotos do imóvel\": [\"https://app-storage-service.pipefy.com/v1/resources/cards-v1/527313463/uploads/9798489e-516a-4b42-8158-d526f5d51aa5/Leonardo4AlcntaraCunhaLima-F13.jpeg\", \"https://app-storage-service.pipefy.com/v1/resources/cards-v1/527313463/uploads/b876ddc1-d451-4913-8733-2d87e1b08773/LeonardoAlcntaraCunhaLima-F1.jpeg\", \"https://app-storage-service.pipefy.com/v1/resources/cards-v1/527313463/uploads/bdfbd95e-7cd4-41a1-9184-d09b8b3ecf9e/LeonardoAlcntaraCunhaLima-F2.jpeg\", \"https://app-storage-service.pipefy.com/v1/resources/cards-v1/527313463/uploads/2c4a28b0-cc75-469f-8ebb-6cda8077a669/LeonardoAlcntaraCunhaLima-F4.jpeg\", \"https://app-storage-service.pipefy.com/v1/resources/cards-v1/527313463/uploads/c7197499-21fb-42ee-8d41-941ddbfad0fd/LeonardoAlcntaraCunhaLima-F3.jpeg\", \"https://app-storage-service.pipefy.com/v1/resources/cards-v1/527313463/uploads/92ec3173-a59d-4deb-b653-7b49514d6535/Leonardo4AlcntaraCunhaLima-F6.jpeg\", \"https://app-storage-service.pipefy.com/v1/resources/cards-v1/527313463/uploads/cc2fca46-334d-4447-801e-33f3a0b68627/LeonardoAlcntaraCunhaLima-F5.jpeg\", \"https://app-storage-service.pipefy.com/v1/resources/cards-v1/527313463/uploads/29e506a2-b881-43ed-b6c5-d95eb44f662d/Leonardo4AlcntaraCunhaLima-F8.jpeg\", \"https://app-storage-service.pipefy.com/v1/resources/cards-v1/527313463/uploads/3bb94036-c29a-4d32-bde8-6bd7944534fd/Leonardo4AlcntaraCunhaLima-F7.jpeg\", \"https://app-storage-service.pipefy.com/v1/resources/cards-v1/527313463/uploads/553f1250-67f5-4228-bcda-7277a480a5ab/Leonardo4AlcntaraCunhaLima-F9.jpeg\", \"https://app-storage-service.pipefy.com/v1/resources/cards-v1/527313463/uploads/ed4ab430-d41c-42d5-bd05-a976e35287bd/Leonardo4AlcntaraCunhaLima-F11.jpeg\", \"https://app-storage-service.pipefy.com/v1/resources/cards-v1/527313463/uploads/24e4c2d7-445e-4205-86fb-aee8d00dee17/Leonardo4AlcntaraCunhaLima-F10.jpeg\", \"https://app-storage-service.pipefy.com/v1/resources/cards-v1/527313463/uploads/688a9b27-3619-4137-90fc-4e5ab0f42135/LeonardoAlcntaraCunhaLima-FotodoInstituto.jpeg\", \"https://app-storage-service.pipefy.com/v1/resources/cards-v1/527313463/uploads/cc74077d-ab16-43fd-8693-46bcc487dbc1/LeonardoAlcntaraCunhaLima-Videoimovel.mp4\"]}\n"
   ]
  },
  {
   "cell_type": "code",
   "execution_count": 26,
   "metadata": {},
   "outputs": [],
   "source": [
    "import pickle\n",
    "dict = {\"Anexos do Email\": [], \"Bacen\": [\"https://app-storage-service.pipefy.com/v1/resources/cards-v1/527313463/uploads/e0f0fb6c-c75a-4257-b57f-30fb43605b78/L.T.IONFODONTOLOGIALTDA-29347232000100-2022-05-06.json\"]}\n",
    "file = open(r'G:\\Drives compartilhados\\Pontte\\Operações\\Projetos\\Automação de Crédito\\Simulação\\Leonardo Alcantara Cunha Lima - 527313463\\dict.pkl', 'wb')\n",
    "pickle.dump(dict, file)\n",
    "file.close()\n"
   ]
  },
  {
   "cell_type": "code",
   "execution_count": 28,
   "metadata": {},
   "outputs": [
    {
     "name": "stdout",
     "output_type": "stream",
     "text": [
      "{'Anexos do Email': [], 'Bacen': ['https://app-storage-service.pipefy.com/v1/resources/cards-v1/527313463/uploads/e0f0fb6c-c75a-4257-b57f-30fb43605b78/L.T.IONFODONTOLOGIALTDA-29347232000100-2022-05-06.json']}\n"
     ]
    },
    {
     "data": {
      "text/plain": [
       "dict_keys(['Anexos do Email', 'Bacen'])"
      ]
     },
     "execution_count": 28,
     "metadata": {},
     "output_type": "execute_result"
    }
   ],
   "source": [
    "file = open(\"DictFile.pkl\", \"rb\")\n",
    "file_contents = pickle.load(file)\n",
    "print(file_contents)\n",
    "\n",
    "file_contents.keys()"
   ]
  }
 ],
 "metadata": {
  "interpreter": {
   "hash": "9a3b07ba528c89038647187279d5e29ba231df4ea6aa016e93723a294652464d"
  },
  "kernelspec": {
   "display_name": "Python 3.10.4 64-bit",
   "language": "python",
   "name": "python3"
  },
  "language_info": {
   "codemirror_mode": {
    "name": "ipython",
    "version": 3
   },
   "file_extension": ".py",
   "mimetype": "text/x-python",
   "name": "python",
   "nbconvert_exporter": "python",
   "pygments_lexer": "ipython3",
   "version": "3.10.4"
  },
  "orig_nbformat": 4
 },
 "nbformat": 4,
 "nbformat_minor": 2
}
