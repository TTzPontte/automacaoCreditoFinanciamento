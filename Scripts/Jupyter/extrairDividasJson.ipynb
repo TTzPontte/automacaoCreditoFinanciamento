{
 "cells": [
  {
   "cell_type": "code",
   "execution_count": 1,
   "metadata": {},
   "outputs": [],
   "source": [
    "import pandas as pd\n",
    "import json\n",
    "import os"
   ]
  },
  {
   "cell_type": "code",
   "execution_count": 2,
   "metadata": {},
   "outputs": [
    {
     "name": "stdout",
     "output_type": "stream",
     "text": [
      "149\n"
     ]
    }
   ],
   "source": [
    "#Passar caminho da pasta com os arquivos Json\n",
    "pathJsons = r\"G:\\Drives compartilhados\\Pontte\\Operações\\Projetos\\Automação de Crédito\\Json\"\n",
    "\n",
    "#Criar lista com todos arquivos dentro da pasta\n",
    "listaJson = [os.path.join(pathJsons, nome) for nome in os.listdir(pathJsons)]\n",
    "\n",
    "#Verificar quantos itens existem na lista do Json\n",
    "print(len(listaJson))"
   ]
  },
  {
   "cell_type": "code",
   "execution_count": 3,
   "metadata": {},
   "outputs": [
    {
     "data": {
      "text/plain": [
       "True"
      ]
     },
     "execution_count": 3,
     "metadata": {},
     "output_type": "execute_result"
    }
   ],
   "source": [
    "#Verificando se o path da lista é válido\n",
    "os.path.exists(listaJson[0])"
   ]
  },
  {
   "cell_type": "code",
   "execution_count": 62,
   "metadata": {},
   "outputs": [
    {
     "data": {
      "text/plain": [
       "['Cheque especial',\n",
       " 'Cheque especial',\n",
       " 'cartão de crédito - compra à vista e parcelado lojista',\n",
       " 'Cartão de crédito',\n",
       " 'Cheque especial',\n",
       " 'capital de giro com prazo vencimento superior 365 d',\n",
       " 'capital de giro com prazo vencimento superior 365 d',\n",
       " 'capital de giro com prazo vencimento superior 365 d',\n",
       " 'capital de giro com prazo vencimento superior 365 d',\n",
       " 'capital de giro com prazo vencimento superior 365 d',\n",
       " 'capital de giro com prazo vencimento superior 365 d',\n",
       " 'capital de giro com prazo vencimento superior 365 d',\n",
       " 'cartão de crédito - compra à vista e parcelado lojista',\n",
       " 'Cartão de crédito',\n",
       " 'Cheque especial',\n",
       " 'capital de giro com prazo vencimento superior 365 d',\n",
       " 'capital de giro com prazo vencimento superior 365 d',\n",
       " 'capital de giro com prazo vencimento superior 365 d',\n",
       " 'capital de giro com prazo vencimento superior 365 d',\n",
       " 'capital de giro com prazo vencimento superior 365 d',\n",
       " 'capital de giro com prazo vencimento superior 365 d',\n",
       " 'cartão de crédito - compra à vista e parcelado lojista',\n",
       " 'Cartão de crédito',\n",
       " 'Cheque especial',\n",
       " 'capital de giro com prazo vencimento superior 365 d',\n",
       " 'capital de giro com prazo vencimento superior 365 d',\n",
       " 'capital de giro com prazo vencimento superior 365 d',\n",
       " 'capital de giro com prazo vencimento superior 365 d',\n",
       " 'capital de giro com prazo vencimento superior 365 d',\n",
       " 'capital de giro com prazo vencimento superior 365 d',\n",
       " 'cartão de crédito - compra à vista e parcelado lojista',\n",
       " 'Cartão de crédito',\n",
       " 'cheque especial',\n",
       " 'Cheque especial',\n",
       " 'capital de giro com prazo vencimento superior 365 d',\n",
       " 'capital de giro com prazo vencimento superior 365 d',\n",
       " 'capital de giro com prazo vencimento superior 365 d',\n",
       " 'capital de giro com prazo vencimento superior 365 d',\n",
       " 'capital de giro com prazo vencimento superior 365 d',\n",
       " 'capital de giro com prazo vencimento superior 365 d',\n",
       " 'cheque especial',\n",
       " 'cheque especial',\n",
       " 'Cheque especial',\n",
       " 'capital de giro com prazo vencimento superior 365 d',\n",
       " 'capital de giro com prazo vencimento superior 365 d',\n",
       " 'capital de giro com prazo vencimento superior 365 d',\n",
       " 'capital de giro com prazo vencimento superior 365 d',\n",
       " 'capital de giro com prazo vencimento superior 365 d',\n",
       " 'capital de giro com prazo vencimento superior 365 d',\n",
       " 'cartão de crédito - compra à vista e parcelado lojista',\n",
       " 'Cartão de crédito',\n",
       " 'Cartão de crédito',\n",
       " 'Cartão de crédito',\n",
       " 'cartão de crédito - compra à vista e parcelado lojista',\n",
       " 'cheque especial',\n",
       " 'Cheque especial',\n",
       " 'capital de giro com prazo vencimento superior 365 d',\n",
       " 'capital de giro com prazo vencimento superior 365 d',\n",
       " 'capital de giro com prazo vencimento superior 365 d',\n",
       " 'capital de giro com prazo vencimento superior 365 d',\n",
       " 'capital de giro com prazo vencimento superior 365 d',\n",
       " 'capital de giro com prazo vencimento superior 365 d']"
      ]
     },
     "execution_count": 62,
     "metadata": {},
     "output_type": "execute_result"
    }
   ],
   "source": [
    "dividas = []\n",
    "\n",
    "for itemJson in listaJson:\n",
    "    with open(itemJson, encoding='utf-8') as meu_json:\n",
    "        dados = json.load(meu_json)\n",
    "        dadosJson = dados['scr_data']\n",
    "\n",
    "        for x in dados['signers']:\n",
    "            nome = x['name']\n",
    "            email = x['email']\n",
    "        \n",
    "        for i in dadosJson:\n",
    "            for j in i['operation_items']:\n",
    "                categoria = j['category_sub']['category']['category_description']\n",
    "                categoria2 = j['category_sub']['category']['category_description']\n",
    "                tipo = j['due_type']['description']\n",
    "                grupo = j['due_type']['due_type_group']\n",
    "                valor = j['due_value']\n",
    "                divida = j['category_sub']['description']\n",
    "                dividas.append(str(divida))\n",
    "\n",
    "dividas\n",
    "#dadosJson"
   ]
  },
  {
   "cell_type": "code",
   "execution_count": 63,
   "metadata": {},
   "outputs": [],
   "source": [
    "def remove_repetidos(lista):\n",
    "    l = []\n",
    "    for i in lista:\n",
    "        if i not in l:\n",
    "            l.append(i)\n",
    "    l.sort()\n",
    "    return l\n"
   ]
  },
  {
   "cell_type": "code",
   "execution_count": 65,
   "metadata": {},
   "outputs": [
    {
     "data": {
      "text/plain": [
       "['Cartão de crédito',\n",
       " 'Cheque especial',\n",
       " 'capital de giro com prazo vencimento superior 365 d',\n",
       " 'cartão de crédito - compra à vista e parcelado lojista',\n",
       " 'cheque especial']"
      ]
     },
     "execution_count": 65,
     "metadata": {},
     "output_type": "execute_result"
    }
   ],
   "source": [
    "dividas = remove_repetidos(dividas)\n",
    "dividas"
   ]
  }
 ],
 "metadata": {
  "interpreter": {
   "hash": "9a3b07ba528c89038647187279d5e29ba231df4ea6aa016e93723a294652464d"
  },
  "kernelspec": {
   "display_name": "Python 3.10.4 64-bit",
   "language": "python",
   "name": "python3"
  },
  "language_info": {
   "codemirror_mode": {
    "name": "ipython",
    "version": 3
   },
   "file_extension": ".py",
   "mimetype": "text/x-python",
   "name": "python",
   "nbconvert_exporter": "python",
   "pygments_lexer": "ipython3",
   "version": "3.10.4"
  },
  "orig_nbformat": 4
 },
 "nbformat": 4,
 "nbformat_minor": 2
}
